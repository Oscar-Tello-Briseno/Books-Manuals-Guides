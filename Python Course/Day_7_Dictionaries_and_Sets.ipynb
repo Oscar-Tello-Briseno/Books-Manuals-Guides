{
  "nbformat": 4,
  "nbformat_minor": 0,
  "metadata": {
    "colab": {
      "provenance": []
    },
    "kernelspec": {
      "name": "python3",
      "display_name": "Python 3"
    },
    "language_info": {
      "name": "python"
    }
  },
  "cells": [
    {
      "cell_type": "markdown",
      "source": [
        "# Introduction to Dictionaries in Python\n",
        "\n",
        "**Definition of Dictionaries**\n",
        "\n",
        "Dictionaries in Python are unordered collections of key-value pairs. They provide a way to store data in a structured format, where each value is associated with a unique key. Dictionaries are mutable, meaning that their elements can be modified after creation.\n",
        "\n",
        "**Curly Braces Notation**\n",
        "\n",
        "In Python, dictionaries are defined using curly braces {}. Each key-value pair is separated by a colon \":\"."
      ],
      "metadata": {
        "id": "Tg1U8ICw84ku"
      }
    },
    {
      "cell_type": "code",
      "execution_count": null,
      "metadata": {
        "id": "7SbZR6387CFz"
      },
      "outputs": [],
      "source": [
        "my_dict = {'apple': 5, 'banana': 10, 'cherry': 15}"
      ]
    },
    {
      "cell_type": "markdown",
      "source": [
        "You can access values in a dictionary by specifying the key inside square brackets []."
      ],
      "metadata": {
        "id": "PWYoHy109Iw9"
      }
    },
    {
      "cell_type": "code",
      "source": [
        "print(my_dict['banana'])  # Output: 10"
      ],
      "metadata": {
        "id": "_XnHaPiF84Tu"
      },
      "execution_count": null,
      "outputs": []
    },
    {
      "cell_type": "markdown",
      "source": [
        "**Dictionary Methods**\n",
        "\n",
        "Python dictionaries come with a variety of built-in methods for adding, removing, and modifying key-value pairs.\n",
        "\n",
        "**Adding Key-Value Pairs:**\n",
        "\n",
        "* my_dict[key] = value: Adds a new key-value pair to the dictionary."
      ],
      "metadata": {
        "id": "zYx7rlGq9Oar"
      }
    },
    {
      "cell_type": "code",
      "source": [
        "my_dict['orange'] = 20\n",
        "print(my_dict)  # Output: {'apple': 5, 'banana': 10, 'cherry': 15, 'orange': 20}"
      ],
      "metadata": {
        "id": "XfRhZSKy9W-3"
      },
      "execution_count": null,
      "outputs": []
    },
    {
      "cell_type": "markdown",
      "source": [
        "**Removing Key-Value Pairs:**\n",
        "\n",
        "* del my_dict[key]: Removes the key-value pair with the specified key.\n",
        "* my_dict.pop(key): Removes and returns the value associated with the specified key."
      ],
      "metadata": {
        "id": "OJOwLise9YT2"
      }
    },
    {
      "cell_type": "code",
      "source": [
        "del my_dict['banana']\n",
        "print(my_dict)  # Output: {'apple': 5, 'cherry': 15, 'orange': 20}\n",
        "\n",
        "value = my_dict.pop('cherry')\n",
        "print(value)    # Output: 15\n",
        "print(my_dict)  # Output: {'apple': 5, 'orange': 20}"
      ],
      "metadata": {
        "id": "bylHj3YN9iLg"
      },
      "execution_count": null,
      "outputs": []
    },
    {
      "cell_type": "markdown",
      "source": [
        "**Modifying Values:**\n",
        "\n",
        "* You can modify the value associated with a key by simply assigning a new value to it."
      ],
      "metadata": {
        "id": "6Kd1Dy3S9hlw"
      }
    },
    {
      "cell_type": "code",
      "source": [
        "my_dict['apple'] = 7\n",
        "print(my_dict)  # Output: {'apple': 7, 'orange': 20}"
      ],
      "metadata": {
        "id": "dIXYO_zw9pXI"
      },
      "execution_count": null,
      "outputs": []
    },
    {
      "cell_type": "markdown",
      "source": [
        "# Dictionary Operations and Iteration in Python\n",
        "\n",
        "**Basic Dictionary Operations**\n",
        "\n",
        "Python dictionaries support various operations for manipulating and accessing data efficiently.\n",
        "\n",
        "**Updating Values:**\n",
        "\n",
        "* You can update the value associated with a key by simply assigning a new value to it."
      ],
      "metadata": {
        "id": "C3xsRoTZ9rP7"
      }
    },
    {
      "cell_type": "code",
      "source": [
        "my_dict = {'apple': 5, 'banana': 10, 'cherry': 15}\n",
        "\n",
        "my_dict['banana'] = 20\n",
        "print(my_dict)  # Output: {'apple': 5, 'banana': 20, 'cherry': 15}"
      ],
      "metadata": {
        "id": "GYMh4zvl-B9P"
      },
      "execution_count": null,
      "outputs": []
    },
    {
      "cell_type": "markdown",
      "source": [
        "**Checking for Key Existence:**\n",
        "\n",
        "* You can check if a key exists in a dictionary using the in operator."
      ],
      "metadata": {
        "id": "R_kvDxBD-D-P"
      }
    },
    {
      "cell_type": "code",
      "source": [
        "print('banana' in my_dict)  # Output: True\n",
        "print('orange' in my_dict)  # Output: False"
      ],
      "metadata": {
        "id": "VJr1lCQ_-I2I"
      },
      "execution_count": null,
      "outputs": []
    },
    {
      "cell_type": "markdown",
      "source": [
        "**Retrieving Keys, Values, and Items:**\n",
        "\n",
        "* You can retrieve keys, values, and key-value pairs (items) from a dictionary using various methods."
      ],
      "metadata": {
        "id": "rNxdLNa1-Lwj"
      }
    },
    {
      "cell_type": "code",
      "source": [
        "# Retrieving keys\n",
        "keys = my_dict.keys()\n",
        "print(keys)  # Output: dict_keys(['apple', 'banana', 'cherry'])\n",
        "\n",
        "# Retrieving values\n",
        "values = my_dict.values()\n",
        "print(values)  # Output: dict_values([5, 20, 15])\n",
        "\n",
        "# Retrieving items\n",
        "items = my_dict.items()\n",
        "print(items)  # Output: dict_items([('apple', 5), ('banana', 20), ('cherry', 15)])"
      ],
      "metadata": {
        "id": "BS4_-Oec-RK-"
      },
      "execution_count": null,
      "outputs": []
    },
    {
      "cell_type": "markdown",
      "source": [
        "# Introduction to Sets in Python\n",
        "\n",
        "**Definition of Sets**\n",
        "\n",
        "Sets in Python are unordered collections of unique elements. They are used to store distinct values and support various operations such as intersection, union, and difference.\n",
        "\n",
        "**Curly Braces Notation**\n",
        "\n",
        "In Python, sets are defined using curly braces {}. Each element in a set is unique, and duplicates are automatically removed."
      ],
      "metadata": {
        "id": "7z9emkyF-YjF"
      }
    },
    {
      "cell_type": "code",
      "source": [
        "my_set = {1, 2, 3, 4, 5}"
      ],
      "metadata": {
        "id": "5jTH8642-1e-"
      },
      "execution_count": null,
      "outputs": []
    },
    {
      "cell_type": "markdown",
      "source": [
        "**Set Operations**\n",
        "\n",
        "Python sets support several operations for performing common set operations like union, intersection, and difference.\n",
        "\n",
        "* **Union**: Combines elements from two or more sets, excluding duplicates."
      ],
      "metadata": {
        "id": "ulmwbE-C-2wB"
      }
    },
    {
      "cell_type": "code",
      "source": [
        "set1 = {1, 2, 3}\n",
        "set2 = {3, 4, 5}\n",
        "union_set = set1 | set2\n",
        "print(union_set)  # Output: {1, 2, 3, 4, 5}"
      ],
      "metadata": {
        "id": "EMGb2krF-9gf"
      },
      "execution_count": null,
      "outputs": []
    },
    {
      "cell_type": "markdown",
      "source": [
        "**Intersection**: Returns the common elements between two sets."
      ],
      "metadata": {
        "id": "xRiZIWVw--fd"
      }
    },
    {
      "cell_type": "code",
      "source": [
        "intersection_set = set1 & set2\n",
        "print(intersection_set)  # Output: {3}"
      ],
      "metadata": {
        "id": "5T0DToTD_CH4"
      },
      "execution_count": null,
      "outputs": []
    },
    {
      "cell_type": "markdown",
      "source": [
        "**Difference**: Returns elements that are present in the first set but not in the second."
      ],
      "metadata": {
        "id": "KsIe3Fj1_DqN"
      }
    },
    {
      "cell_type": "code",
      "source": [
        "difference_set = set1 - set2\n",
        "print(difference_set)  # Output: {1, 2}"
      ],
      "metadata": {
        "id": "0iLsonYy_G3g"
      },
      "execution_count": null,
      "outputs": []
    },
    {
      "cell_type": "markdown",
      "source": [
        "**Set Methods**\n",
        "\n",
        "Python sets come with built-in methods for adding, removing, and manipulating elements.\n",
        "\n",
        "**Adding Elements:**\n",
        "\n",
        "* add(): Adds a single element to the set."
      ],
      "metadata": {
        "id": "5t1B1Gx3_Kdr"
      }
    },
    {
      "cell_type": "code",
      "source": [
        "my_set.add(6)\n",
        "print(my_set)  # Output: {1, 2, 3, 4, 5, 6}"
      ],
      "metadata": {
        "id": "tm1W9pyL_P-6"
      },
      "execution_count": null,
      "outputs": []
    },
    {
      "cell_type": "markdown",
      "source": [
        "**Removing Elements:**\n",
        "* remove(): Removes a specified element from the set. Raises an error if the element is not present.\n",
        "* discard(): Removes a specified element from the set, but does not raise an error if the element is not present.\n",
        "* pop(): Removes and returns an arbitrary element from the set."
      ],
      "metadata": {
        "id": "mXub5PLd_RqW"
      }
    },
    {
      "cell_type": "code",
      "source": [
        "my_set.remove(3)\n",
        "print(my_set)  # Output: {1, 2, 4, 5, 6}\n",
        "\n",
        "my_set.discard(4)\n",
        "print(my_set)  # Output: {1, 2, 5, 6}\n",
        "\n",
        "element = my_set.pop()\n",
        "print(element)  # Output: 1\n",
        "print(my_set)   # Output: {2, 5, 6}"
      ],
      "metadata": {
        "id": "fRNuOoc9_bR1"
      },
      "execution_count": null,
      "outputs": []
    },
    {
      "cell_type": "markdown",
      "source": [
        "# Set Operations and Set Comprehension in Python\n",
        "\n",
        "**Basic Set Operations**\n",
        "Python sets support various operations for manipulating and combining sets efficiently.\n",
        "\n",
        "* Intersection: Returns a set containing the common elements between two or more sets."
      ],
      "metadata": {
        "id": "4LlUUyAk_4YO"
      }
    },
    {
      "cell_type": "code",
      "source": [
        "set1 = {1, 2, 3}\n",
        "set2 = {3, 4, 5}\n",
        "intersection_set = set1.intersection(set2)\n",
        "print(intersection_set)  # Output: {3}"
      ],
      "metadata": {
        "id": "_slbwfQKAXK2"
      },
      "execution_count": null,
      "outputs": []
    },
    {
      "cell_type": "markdown",
      "source": [
        "* Union: Combines elements from two or more sets, excluding duplicates."
      ],
      "metadata": {
        "id": "Bwud9JEUAcp6"
      }
    },
    {
      "cell_type": "code",
      "source": [
        "union_set = set1.union(set2)\n",
        "print(union_set)  # Output: {1, 2, 3, 4, 5}"
      ],
      "metadata": {
        "id": "UQV3mqz1AhaF"
      },
      "execution_count": null,
      "outputs": []
    },
    {
      "cell_type": "markdown",
      "source": [
        "* Difference: Returns elements that are present in the first set but not in the second."
      ],
      "metadata": {
        "id": "wUuHvehvAlTd"
      }
    },
    {
      "cell_type": "code",
      "source": [
        "difference_set = set1.difference(set2)\n",
        "print(difference_set)  # Output: {1, 2}"
      ],
      "metadata": {
        "id": "0Tq7TvpoA5N_"
      },
      "execution_count": null,
      "outputs": []
    },
    {
      "cell_type": "markdown",
      "source": [
        "* Symmetric Difference: Returns elements that are present in either set but not in both."
      ],
      "metadata": {
        "id": "4e1wDIfcA7p8"
      }
    },
    {
      "cell_type": "code",
      "source": [
        "symmetric_difference_set = set1.symmetric_difference(set2)\n",
        "print(symmetric_difference_set)  # Output: {1, 2, 4, 5}"
      ],
      "metadata": {
        "id": "L3uZFjCCBBo2"
      },
      "execution_count": null,
      "outputs": []
    },
    {
      "cell_type": "markdown",
      "source": [
        "**Set Comprehension**\n",
        "\n",
        "Similar to list comprehensions, set comprehensions provide a concise syntax for creating sets in Python."
      ],
      "metadata": {
        "id": "jRbT-lU5BDod"
      }
    },
    {
      "cell_type": "code",
      "source": [
        "# Set comprehension\n",
        "my_set = {x for x in range(1, 6)}\n",
        "print(my_set)  # Output: {1, 2, 3, 4, 5}"
      ],
      "metadata": {
        "id": "paaf76wcCesz"
      },
      "execution_count": null,
      "outputs": []
    },
    {
      "cell_type": "markdown",
      "source": [
        "In this example, we create a set containing numbers from 1 to 5 using set comprehension.\n",
        "\n",
        "Set comprehensions are efficient and Pythonic ways to create sets using a compact syntax. They are particularly useful when you need to generate sets dynamically based on some conditions or transformations."
      ],
      "metadata": {
        "id": "36r9LrcTCgle"
      }
    },
    {
      "cell_type": "markdown",
      "source": [
        "# Practical Applications of Dictionaries and Sets in Python\n",
        "\n",
        "**Real-world Examples**\n",
        "\n",
        "* Data Manipulation: Dictionaries are commonly used for data manipulation tasks such as storing and accessing data in a structured format. For example, in a web application, you might use a dictionary to represent user profiles, where each user ID is associated with a dictionary containing user information such as name, email, and age."
      ],
      "metadata": {
        "id": "X0En9TfMCvPA"
      }
    },
    {
      "cell_type": "code",
      "source": [
        "user_profiles = {\n",
        "    1001: {'name': 'Alice', 'email': 'alice@example.com', 'age': 30},\n",
        "    1002: {'name': 'Bob', 'email': 'bob@example.com', 'age': 25},\n",
        "    # More user profiles...\n",
        "}"
      ],
      "metadata": {
        "id": "bj_9vqNpC7PB"
      },
      "execution_count": null,
      "outputs": []
    },
    {
      "cell_type": "markdown",
      "source": [
        "* Deduplication: Sets are useful for removing duplicate elements from a collection. For example, you can use sets to deduplicate a list of email addresses or a list of words in a text."
      ],
      "metadata": {
        "id": "VehGxGj2C8Gm"
      }
    },
    {
      "cell_type": "code",
      "source": [
        "emails = ['alice@example.com', 'bob@example.com', 'alice@example.com', 'charlie@example.com']\n",
        "unique_emails = set(emails)\n",
        "print(unique_emails)  # Output: {'bob@example.com', 'alice@example.com', 'charlie@example.com'}"
      ],
      "metadata": {
        "id": "2QD7XegIDAoX"
      },
      "execution_count": null,
      "outputs": []
    },
    {
      "cell_type": "markdown",
      "source": [
        "* Counting Occurrences: Dictionaries can be used to count the occurrences of elements in a collection. For example, you can use a dictionary to count the frequency of words in a text."
      ],
      "metadata": {
        "id": "zGdvq5IxDDFm"
      }
    },
    {
      "cell_type": "code",
      "source": [
        "text = \"apple banana cherry banana apple\"\n",
        "word_counts = {}\n",
        "\n",
        "for word in text.split():\n",
        "    if word in word_counts:\n",
        "        word_counts[word] += 1\n",
        "    else:\n",
        "        word_counts[word] = 1\n",
        "\n",
        "print(word_counts)  # Output: {'apple': 2, 'banana': 2, 'cherry': 1}"
      ],
      "metadata": {
        "id": "TGVWS_eeDIpE"
      },
      "execution_count": null,
      "outputs": []
    },
    {
      "cell_type": "markdown",
      "source": [
        "**Choosing Between Dictionaries and Sets**\n",
        "\n",
        "* Data Structure Choice: Use dictionaries when you need to associate values (values in key-value pairs) with keys, and use sets when you need to store unique elements without duplicates.\n",
        "* Performance Consideration: Dictionaries offer fast lookups based on keys, while sets offer fast membership testing and operations such as intersection and union.\n",
        "* Data Characteristics: Choose dictionaries when you need to store data in a structured format with associated keys and values. Choose sets when you need to handle collections of unique elements or perform set operations such as intersection and union."
      ],
      "metadata": {
        "id": "r4jie4GdDLNm"
      }
    },
    {
      "cell_type": "markdown",
      "source": [
        "# Activity\n",
        "\n",
        "1. Create a dictionary representing a student's information with keys for name, age, and grade.\n",
        "2. Update the grade of the student in the dictionary from exercise 1 to 'A'.\n",
        "3. Check if the key 'age' exists in the dictionary from exercise 1.\n",
        "4. Retrieve all keys from the dictionary from exercise 1.\n",
        "5. Retrieve all values from the dictionary from exercise 1.\n",
        "6. Retrieve all key-value pairs from the dictionary from exercise 1.\n",
        "7. Create a dictionary comprehension to generate a dictionary of squares from 1 to 10.\n",
        "8. Create a set containing the vowels (a, e, i, o, u).\n",
        "9. Check if the letter 'a' exists in the set from exercise 8.\n",
        "10. Perform the union of two sets containing numbers from 1 to 5 and 4 to 8 respectively.\n",
        "11. Perform the intersection of two sets containing even numbers from 1 to 10 and multiples of 3 from 1 to 10 respectively.\n",
        "12. Find the difference between two sets containing prime numbers from 1 to 10 and even numbers from 1 to 10 respectively.\n",
        "13. Find the symmetric difference between two sets containing odd numbers from 1 to 10 and multiples of 5 from 1 to 10 respectively.\n",
        "14. Create a set comprehension to generate a set of squares from 1 to 10.\n",
        "15. Create a dictionary containing the frequency of each letter in the string 'hello world'.\n",
        "16. Update the dictionary from exercise 15 to include the frequency of each digit from 0 to 9 in the string '1234567890'.\n",
        "17. Remove the key-value pair for the letter 'o' from the dictionary from exercise 15.\n",
        "18. Check if the key 'l' exists in the dictionary from exercise 15.\n",
        "19. Retrieve all keys from the dictionary from exercise 15.\n",
        "20. Retrieve all values from the dictionary from exercise 15.\n",
        "21. Retrieve all key-value pairs from the dictionary from exercise 15.\n",
        "22. Create a dictionary comprehension to generate a dictionary of cubes from 1 to 10.\n",
        "23. Perform the union of two sets containing prime numbers from 1 to 10 and odd numbers from 1 to 10 respectively.\n",
        "24. Perform the intersection of two sets containing multiples of 3 from 1 to 10 and multiples of 5 from 1 to 10 respectively.\n",
        "25. Find the difference between two sets containing even numbers from 1 to 10 and multiples of 4 from 1 to 10 respectively."
      ],
      "metadata": {
        "id": "waiDUp0pDabU"
      }
    }
  ]
}