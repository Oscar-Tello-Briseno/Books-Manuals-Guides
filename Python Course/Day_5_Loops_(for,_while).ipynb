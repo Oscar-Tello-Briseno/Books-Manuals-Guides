{
  "nbformat": 4,
  "nbformat_minor": 0,
  "metadata": {
    "colab": {
      "provenance": []
    },
    "kernelspec": {
      "name": "python3",
      "display_name": "Python 3"
    },
    "language_info": {
      "name": "python"
    }
  },
  "cells": [
    {
      "cell_type": "markdown",
      "source": [
        "# Introduction to Loops\n",
        "\n",
        "Loops are a fundamental concept in programming, allowing us to execute a block of code repeatedly. They are crucial for iterating over collections of data, such as lists or arrays, and performing operations on each element.\n",
        "\n",
        "Imagine you have a list of numbers and you want to perform the same operation on each number. Instead of writing the same code for each number, you can use a loop to iterate through the list and execute the operation on each item. This saves time and makes our code more concise and readable.\n",
        "\n",
        "For example, let's say we have a list of numbers [1, 2, 3, 4, 5] and we want to print each number multiplied by 2. Instead of writing:"
      ],
      "metadata": {
        "id": "Rjpd8BMvC1Qw"
      }
    },
    {
      "cell_type": "code",
      "execution_count": null,
      "metadata": {
        "id": "p4xfFWxgCNKv"
      },
      "outputs": [],
      "source": [
        "print(1 * 2)\n",
        "print(2 * 2)\n",
        "print(3 * 2)\n",
        "print(4 * 2)\n",
        "print(5 * 2)"
      ]
    },
    {
      "cell_type": "markdown",
      "source": [
        "We can use a loop to achieve the same result with much less code:"
      ],
      "metadata": {
        "id": "TFlIAhNnDATX"
      }
    },
    {
      "cell_type": "code",
      "source": [
        "numbers = [1, 2, 3, 4, 5]\n",
        "\n",
        "for number in numbers:\n",
        "    print(number * 2)"
      ],
      "metadata": {
        "id": "aYY9lL6RDCmA"
      },
      "execution_count": null,
      "outputs": []
    },
    {
      "cell_type": "markdown",
      "source": [
        "Loops are essential for automating repetitive tasks and processing large datasets efficiently. They allow us to perform the same operation on multiple items without having to write redundant code. In tasks such as data analysis or manipulation, loops play a crucial role in handling large amounts of data effectively."
      ],
      "metadata": {
        "id": "DrMdd5F0DER1"
      }
    },
    {
      "cell_type": "markdown",
      "source": [
        "# For Loops\n",
        "\n",
        "For loops are used in Python to iterate over sequences such as lists, tuples, strings, and dictionaries. They have a simple syntax that makes it easy to loop through each item in a sequence.\n",
        "\n",
        "Here's a basic example of a for loop iterating over a list:"
      ],
      "metadata": {
        "id": "_j3dyYArDG9P"
      }
    },
    {
      "cell_type": "code",
      "source": [
        "fruits = [\"apple\", \"banana\", \"cherry\"]\n",
        "\n",
        "for fruit in fruits:\n",
        "    print(fruit)"
      ],
      "metadata": {
        "id": "c_H1wqqUDON7"
      },
      "execution_count": null,
      "outputs": []
    },
    {
      "cell_type": "markdown",
      "source": [
        "In this example, the variable fruit takes on each value in the fruits list successively, and the loop body (the indented block of code) is executed once for each value.\n",
        "\n",
        "The range() function is commonly used with for loops to generate sequences of numbers. For example:\n",
        "\n"
      ],
      "metadata": {
        "id": "unz3Ern8DQnx"
      }
    },
    {
      "cell_type": "code",
      "source": [
        "for i in range(5):\n",
        "    print(i)"
      ],
      "metadata": {
        "id": "kzkK6iLBDUy0"
      },
      "execution_count": null,
      "outputs": []
    },
    {
      "cell_type": "markdown",
      "source": [
        "Here, range(5) generates a sequence of numbers from 0 to 4, and the loop iterates over each number.\n",
        "\n",
        "Nested for loops are used to iterate over nested data structures, such as lists of lists or dictionaries of lists. Here's an example:"
      ],
      "metadata": {
        "id": "iYX6MQ69DXDq"
      }
    },
    {
      "cell_type": "code",
      "source": [
        "matrix = [[1, 2, 3],\n",
        "          [4, 5, 6],\n",
        "          [7, 8, 9]]\n",
        "\n",
        "for row in matrix:\n",
        "    for element in row:\n",
        "        print(element, end=' ')\n",
        "    print()"
      ],
      "metadata": {
        "id": "aj_XQln2Dcv5"
      },
      "execution_count": null,
      "outputs": []
    },
    {
      "cell_type": "markdown",
      "source": [
        "In this example, the outer loop iterates over each row in the matrix, and the inner loop iterates over each element in the row. This allows us to access and process each element individually.\n",
        "\n",
        "Overall, for loops are a powerful tool in Python for iterating over sequences and performing operations on each item. They are versatile and widely used in various programming tasks."
      ],
      "metadata": {
        "id": "1YHtIJaZDehu"
      }
    },
    {
      "cell_type": "markdown",
      "source": [
        "# While Loops\n",
        "\n",
        "While loops in Python are used to execute a block of code repeatedly as long as a specified condition is true. They have a simple syntax and are useful when you don't know beforehand how many times the loop will need to execute.\n",
        "\n",
        "Here's a basic example of a while loop:"
      ],
      "metadata": {
        "id": "SG60-rz2Dhbm"
      }
    },
    {
      "cell_type": "code",
      "source": [
        "count = 0\n",
        "\n",
        "while count < 5:\n",
        "    print(\"Count is:\", count)\n",
        "    count += 1"
      ],
      "metadata": {
        "id": "Q1-vNJjuDrx7"
      },
      "execution_count": null,
      "outputs": []
    },
    {
      "cell_type": "markdown",
      "source": [
        "In this example, the loop continues to execute as long as the condition count < 5 is true. The variable count is incremented in each iteration, and once it reaches 5, the condition becomes false, and the loop stops.\n",
        "\n",
        "Loop control statements like break and continue can be used to modify the flow of loop execution. break terminates the loop prematurely, while continue skips the rest of the loop body and moves to the next iteration.\n",
        "\n",
        "Here's an example demonstrating the use of break:"
      ],
      "metadata": {
        "id": "QWUYytfwDtmt"
      }
    },
    {
      "cell_type": "code",
      "source": [
        "while True:\n",
        "    user_input = input(\"Enter 'quit' to exit: \")\n",
        "    if user_input == 'quit':\n",
        "        break\n",
        "    print(\"You entered:\", user_input)"
      ],
      "metadata": {
        "id": "UP5yOrPGDw9q"
      },
      "execution_count": null,
      "outputs": []
    },
    {
      "cell_type": "markdown",
      "source": [
        "This loop will continue to prompt the user for input until they enter \"quit\". Once \"quit\" is entered, the loop will terminate due to the break statement.\n",
        "\n",
        "While loops are often used for tasks such as user input validation and iterative algorithms. For example, you might use a while loop to repeatedly ask the user for input until they provide a valid response, or to implement iterative algorithms like the Newton-Raphson method for finding roots of equations.\n",
        "\n",
        "Overall, while loops are a valuable tool in Python for executing code repeatedly based on a condition, and they offer flexibility in handling situations where the number of iterations is not known in advance."
      ],
      "metadata": {
        "id": "NAKXsQ3nDy5p"
      }
    },
    {
      "cell_type": "markdown",
      "source": [
        "# Looping Techniques\n",
        "\n",
        "Looping techniques in Python offer various enhancements to make your loops more powerful and versatile.\n",
        "\n",
        "1. Loop Else Clause: The else clause in a loop is executed when the loop completes its iterations without encountering a break statement. This can be useful for executing code after a loop has finished its task. Here's an example:"
      ],
      "metadata": {
        "id": "oDofTajPD5pE"
      }
    },
    {
      "cell_type": "code",
      "source": [
        "numbers = [1, 2, 3, 4, 5]\n",
        "\n",
        "for num in numbers:\n",
        "    if num == 6:\n",
        "        print(\"Found 6!\")\n",
        "        break\n",
        "else:\n",
        "    print(\"6 not found in the list.\")\n"
      ],
      "metadata": {
        "id": "MZD0KQs6EJi3"
      },
      "execution_count": null,
      "outputs": []
    },
    {
      "cell_type": "markdown",
      "source": [
        "In this example, since there is no 6 in the numbers list, the loop completes without encountering the break statement, so the else block is executed, printing \"6 not found in the list.\"\n",
        "\n",
        "2. Enumerate Function: The enumerate() function is used to iterate over a sequence while also tracking the index of each item. This is helpful when you need both the index and the value during iteration. Here's an example:"
      ],
      "metadata": {
        "id": "0R3LpwuqENT-"
      }
    },
    {
      "cell_type": "code",
      "source": [
        "fruits = ['apple', 'banana', 'cherry']\n",
        "\n",
        "for index, fruit in enumerate(fruits):\n",
        "    print(f\"Index {index}: {fruit}\")"
      ],
      "metadata": {
        "id": "7UxQEb9bEVrr"
      },
      "execution_count": null,
      "outputs": []
    },
    {
      "cell_type": "markdown",
      "source": [
        "3. Zip Function: The zip() function is used to iterate over multiple sequences simultaneously by pairing up corresponding elements. This is useful when you need to iterate over multiple lists or tuples in parallel. Here's an example:"
      ],
      "metadata": {
        "id": "USxUYqWUEXn3"
      }
    },
    {
      "cell_type": "code",
      "source": [
        "names = ['Alice', 'Bob', 'Charlie']\n",
        "ages = [30, 25, 35]\n",
        "\n",
        "for name, age in zip(names, ages):\n",
        "    print(f\"{name} is {age} years old.\")"
      ],
      "metadata": {
        "id": "oxRsMEy0EcYv"
      },
      "execution_count": null,
      "outputs": []
    },
    {
      "cell_type": "markdown",
      "source": [
        "These looping techniques offer additional functionality and flexibility, making your code more concise and expressive. They are essential tools in Python for efficiently working with loops and iterating over sequences."
      ],
      "metadata": {
        "id": "bdTTnPidEesu"
      }
    },
    {
      "cell_type": "markdown",
      "source": [
        "# Infinite Loops\n",
        "\n",
        "Infinite loops are loops that continue indefinitely, without ever halting. They can cause programs to hang or crash, consuming excessive amounts of system resources and rendering the program unresponsive. Therefore, it's crucial to be cautious when writing loops to avoid unintended infinite loops.\n",
        "\n",
        "Here's a cautionary note on infinite loops:"
      ],
      "metadata": {
        "id": "M0HoKoZNEgqW"
      }
    },
    {
      "cell_type": "code",
      "source": [
        "while True:\n",
        "    print(\"This is an infinite loop!\")"
      ],
      "metadata": {
        "id": "LIskZay9Erzl"
      },
      "execution_count": null,
      "outputs": []
    },
    {
      "cell_type": "markdown",
      "source": [
        "In this example, the loop condition True is always true, so the loop will continue to execute indefinitely, printing \"This is an infinite loop!\" repeatedly.\n",
        "\n",
        "To prevent and debug infinite loops, consider the following strategies:\n",
        "\n",
        "1. Use Break Statements: Ensure that your loop has a condition that can eventually become false, or use break statements to exit the loop when a certain condition is met."
      ],
      "metadata": {
        "id": "jWx6iDfbEu3c"
      }
    },
    {
      "cell_type": "code",
      "source": [
        "count = 0\n",
        "\n",
        "while True:\n",
        "    print(\"Count is:\", count)\n",
        "    count += 1\n",
        "    if count >= 5:\n",
        "        break"
      ],
      "metadata": {
        "id": "6OdRO8V7Exkl"
      },
      "execution_count": null,
      "outputs": []
    },
    {
      "cell_type": "markdown",
      "source": [
        "2. Review Loop Conditions: Double-check the conditions in your loop to ensure they are correctly defined and will eventually evaluate to false."
      ],
      "metadata": {
        "id": "DIqAQN71EzqU"
      }
    },
    {
      "cell_type": "code",
      "source": [
        "x = 10\n",
        "\n",
        "while x > 0:\n",
        "    print(\"Decrementing x\")\n",
        "    x -= 1"
      ],
      "metadata": {
        "id": "OQb7q7JoE2zH"
      },
      "execution_count": null,
      "outputs": []
    },
    {
      "cell_type": "markdown",
      "source": [
        "3. Use Timeout Mechanisms: If applicable, use timeout mechanisms or interrupt signals to terminate long-running loops automatically."
      ],
      "metadata": {
        "id": "Ij5knC8HE4fl"
      }
    },
    {
      "cell_type": "code",
      "source": [
        "import signal\n",
        "\n",
        "def handler(signum, frame):\n",
        "    raise TimeoutError(\"Loop execution timed out\")\n",
        "\n",
        "signal.signal(signal.SIGALRM, handler)\n",
        "signal.alarm(5)  # Set a timeout of 5 seconds\n",
        "\n",
        "try:\n",
        "    while True:\n",
        "      print('Hello World')\n",
        "        # Your loop code here\n",
        "except TimeoutError:\n",
        "    print(\"Loop execution timed out\")\n"
      ],
      "metadata": {
        "id": "1vWl3czNE8ls"
      },
      "execution_count": null,
      "outputs": []
    },
    {
      "cell_type": "markdown",
      "source": [
        "4. Debugging Tools: Utilize debugging tools such as print statements, logging, or debugging environments to inspect loop variables and conditions during execution."
      ],
      "metadata": {
        "id": "lVRUeSzoFwHT"
      }
    },
    {
      "cell_type": "code",
      "source": [
        "x = 0\n",
        "while True:\n",
        "    print(\"Looping...\")\n",
        "    # Debugging statement\n",
        "    print(\"Value of x:\", x)\n",
        "    x+=1"
      ],
      "metadata": {
        "id": "B5OEUKSjF0IR"
      },
      "execution_count": null,
      "outputs": []
    },
    {
      "cell_type": "markdown",
      "source": [
        "By employing these strategies, you can mitigate the risks associated with infinite loops and ensure that your programs execute efficiently without hanging or crashing due to unintended infinite looping."
      ],
      "metadata": {
        "id": "SG8lTb3XGCHp"
      }
    },
    {
      "cell_type": "markdown",
      "source": [
        "# Activitie\n",
        "\n",
        "1. Write a loop that prints all prime numbers between 1 and 100.\n",
        "2. Create a loop that iterates over a list of strings and prints each string along with its length.\n",
        "3. Implement a loop that calculates the factorial of a given number.\n",
        "4. Write a loop that generates the Fibonacci sequence up to the 10th term.\n",
        "5. Create a loop that reverses a given string without using string slicing.\n",
        "6. Implement a loop that checks if a given number is a palindrome.\n",
        "7. Write a loop that converts a list of Celsius temperatures to Fahrenheit.\n",
        "8. Create a loop that removes duplicates from a list.\n",
        "9. Implement a loop that finds the largest and smallest elements in a list.\n",
        "10. Write a loop that counts the number of vowels in a string.\n",
        "11. Create a loop that prints Pascal's triangle up to the 10th row.\n",
        "12. Implement a loop that sorts a list of integers using the bubble sort algorithm.\n",
        "13. Write a loop that generates all possible combinations of a given list of numbers.\n",
        "14. Create a loop that calculates the sum of the digits of a given number.\n",
        "15. Implement a loop that calculates the square root of a number using Newton's method.\n",
        "16. Write a loop that prints all permutations of a given string.\n",
        "17. Create a loop that converts a decimal number to binary without using built-in functions.\n",
        "18. Implement a loop that checks if a given string is an anagram of another string.\n",
        "19. Write a loop that generates the Collatz sequence for a given number.\n",
        "20. Create a loop that calculates the sum of an alternating series: 1 - 2 + 3 - 4 + ...\n",
        "21. Implement a loop that calculates the greatest common divisor (GCD) of two numbers.\n",
        "22. Write a loop that prints the first 10 terms of the harmonic series.\n",
        "23. Create a loop that generates all prime factors of a given number.\n",
        "24. Implement a loop that checks if a given number is a perfect number.\n",
        "25. Write a loop that converts a Roman numeral to an integer."
      ],
      "metadata": {
        "id": "5_jMqcaHGEGu"
      }
    }
  ]
}