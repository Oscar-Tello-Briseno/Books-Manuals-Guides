{
  "nbformat": 4,
  "nbformat_minor": 0,
  "metadata": {
    "colab": {
      "provenance": []
    },
    "kernelspec": {
      "name": "python3",
      "display_name": "Python 3"
    },
    "language_info": {
      "name": "python"
    }
  },
  "cells": [
    {
      "cell_type": "markdown",
      "source": [
        "# Introduction to Lists in Python\n",
        "\n",
        "Lists in Python are fundamental data structures that allow you to store and manipulate collections of items. They are ordered, mutable, and versatile, making them one of the most commonly used data types in Python programming.\n",
        "\n",
        "**Definition of Lists**\n",
        "A list is an ordered collection of items, where each item can be of any data type, including integers, floats, strings, or even other lists. Lists are mutable, meaning that you can change their elements after they are created.\n",
        "\n",
        "**Square Brackets Notation**\n",
        "In Python, lists are defined using square brackets []. Here's how you can define a list:"
      ],
      "metadata": {
        "id": "gFrlEhR8JKH4"
      }
    },
    {
      "cell_type": "code",
      "execution_count": null,
      "metadata": {
        "id": "F6na_b4iJHql"
      },
      "outputs": [],
      "source": [
        "my_list = [1, 2, 3, 4, 5]"
      ]
    },
    {
      "cell_type": "markdown",
      "source": [
        "You can access elements in a list using their index, which is a zero-based integer representing their position in the list. For example:"
      ],
      "metadata": {
        "id": "rRJlhkRcJVRx"
      }
    },
    {
      "cell_type": "code",
      "source": [
        "print(my_list[0])  # Output: 1\n",
        "print(my_list[2])  # Output: 3"
      ],
      "metadata": {
        "id": "-ezpoDxRJXEq"
      },
      "execution_count": null,
      "outputs": []
    },
    {
      "cell_type": "markdown",
      "source": [
        "**List Methods**\n",
        "Python provides a variety of built-in methods for working with lists. These methods allow you to add, remove, and modify elements in a list efficiently.\n",
        "\n",
        "**Adding Elements:**\n",
        "* append(): Adds an element to the end of the list.\n",
        "* insert(): Inserts an element at a specified position in the list.\n",
        "\n",
        "**Removing Elements:**\n",
        "* pop(): Removes and returns the element at a specified position in the list, or the last element if no position is specified.\n",
        "* remove(): Removes the first occurrence of a specified value from the list.\n",
        "* clear(): Removes all elements from the list.\n",
        "\n",
        "**Modifying Elements:**\n",
        "* Assignment: You can directly assign a new value to an element in the list using its index.\n",
        "\n",
        "Here's an example demonstrating some of these methods:"
      ],
      "metadata": {
        "id": "-t6iQfMbJYyy"
      }
    },
    {
      "cell_type": "code",
      "source": [
        "my_list = [1, 2, 3, 4, 5]\n",
        "\n",
        "# Adding elements\n",
        "my_list.append(6)\n",
        "print(my_list)  # Output: [1, 2, 3, 4, 5, 6]\n",
        "\n",
        "my_list.insert(0, 0)\n",
        "print(my_list)  # Output: [0, 1, 2, 3, 4, 5, 6]\n",
        "\n",
        "# Removing elements\n",
        "my_list.pop()\n",
        "print(my_list)  # Output: [0, 1, 2, 3, 4, 5]\n",
        "\n",
        "my_list.remove(3)\n",
        "print(my_list)  # Output: [0, 1, 2, 4, 5]\n",
        "\n",
        "# Modifying elements\n",
        "my_list[0] = 10\n",
        "print(my_list)  # Output: [10, 1, 2, 4, 5]"
      ],
      "metadata": {
        "id": "z9nNJdIiJzFZ"
      },
      "execution_count": null,
      "outputs": []
    },
    {
      "cell_type": "markdown",
      "source": [
        "# List Operations and Slicing in Python\n",
        "\n",
        "**Basic List Operations**\n",
        "In Python, you can perform various operations on lists, including concatenation and repetition.\n",
        "\n",
        "* Concatenation: You can concatenate two or more lists using the + operator."
      ],
      "metadata": {
        "id": "uDPJY53sJ12i"
      }
    },
    {
      "cell_type": "code",
      "source": [
        "list1 = [1, 2, 3]\n",
        "list2 = [4, 5, 6]\n",
        "result = list1 + list2\n",
        "print(result)  # Output: [1, 2, 3, 4, 5, 6]"
      ],
      "metadata": {
        "id": "En1cwU9iKCSM"
      },
      "execution_count": null,
      "outputs": []
    },
    {
      "cell_type": "markdown",
      "source": [
        "* Repetition: You can repeat a list by multiplying it with an integer."
      ],
      "metadata": {
        "id": "0rFpWT2QKEug"
      }
    },
    {
      "cell_type": "code",
      "source": [
        "list3 = [7, 8, 9]\n",
        "result = list3 * 3\n",
        "print(result)  # Output: [7, 8, 9, 7, 8, 9, 7, 8, 9]"
      ],
      "metadata": {
        "id": "r6-n752QKH-x"
      },
      "execution_count": null,
      "outputs": []
    },
    {
      "cell_type": "markdown",
      "source": [
        "**List Slicing**\n",
        "\n",
        "List slicing allows you to extract sublists from a list and access subsets of elements efficiently.\n",
        "\n",
        "**Syntax:**\n",
        "* list[start:end]: Extracts elements from index start to end-1.\n",
        "* list[:end]: Extracts elements from the beginning to index end-1.\n",
        "* list[start:]: Extracts elements from index start to the end.\n",
        "* list[start:end:step]: Extracts elements from index start to end-1 with a specified step size."
      ],
      "metadata": {
        "id": "lJWZiebyKKC3"
      }
    },
    {
      "cell_type": "code",
      "source": [
        "my_list = [1, 2, 3, 4, 5, 6, 7, 8, 9, 10]\n",
        "\n",
        "# Extracting sublists\n",
        "sublist1 = my_list[2:5]\n",
        "print(sublist1)  # Output: [3, 4, 5]\n",
        "\n",
        "# Accessing subsets of elements\n",
        "subset1 = my_list[:6]\n",
        "print(subset1)   # Output: [1, 2, 3, 4, 5, 6]\n",
        "\n",
        "subset2 = my_list[3:]\n",
        "print(subset2)   # Output: [4, 5, 6, 7, 8, 9, 10]\n",
        "\n",
        "# Slicing with step size\n",
        "subset3 = my_list[1:9:2]\n",
        "print(subset3)   # Output: [2, 4, 6, 8]\n",
        "\n",
        "# Negative indexing and slicing\n",
        "last_three = my_list[-3:]\n",
        "print(last_three)  # Output: [8, 9, 10]\n",
        "\n",
        "reverse_list = my_list[::-1]\n",
        "print(reverse_list)  # Output: [10, 9, 8, 7, 6, 5, 4, 3, 2, 1]"
      ],
      "metadata": {
        "id": "IUJDAkm7KUhe"
      },
      "execution_count": null,
      "outputs": []
    },
    {
      "cell_type": "markdown",
      "source": [
        "# Introduction to Tuples in Python\n",
        "\n",
        "**Definition of Tuples**\n",
        "Tuples are ordered collections of items, similar to lists, but they are immutable, meaning that once created, their elements cannot be changed. Tuples are often used to store related pieces of information together.\n",
        "\n",
        "**Parentheses Notation**\n",
        "In Python, tuples are defined using parentheses (). Here's how you can define a tuple:"
      ],
      "metadata": {
        "id": "RmR_ypNDKWjY"
      }
    },
    {
      "cell_type": "code",
      "source": [
        "my_tuple = (1, 2, 3, 4, 5)"
      ],
      "metadata": {
        "id": "m5owCPZrKpPJ"
      },
      "execution_count": null,
      "outputs": []
    },
    {
      "cell_type": "markdown",
      "source": [
        "You can access elements in a tuple using their index, just like with lists. Indexing in tuples is also zero-based."
      ],
      "metadata": {
        "id": "7fm_N_O3KrcQ"
      }
    },
    {
      "cell_type": "code",
      "source": [
        "print(my_tuple[0])  # Output: 1\n",
        "print(my_tuple[2])  # Output: 3"
      ],
      "metadata": {
        "id": "ykQ_p5nKKtjY"
      },
      "execution_count": null,
      "outputs": []
    },
    {
      "cell_type": "markdown",
      "source": [
        "**Tuple Methods and Operations**\n",
        "\n",
        "While tuples are immutable and do not support methods that modify the tuple, they do support various operations such as concatenation and repetition.\n",
        "\n",
        "* Concatenation: You can concatenate two or more tuples using the + operator."
      ],
      "metadata": {
        "id": "DTUxBEhMKvEu"
      }
    },
    {
      "cell_type": "code",
      "source": [
        "tuple1 = (1, 2, 3)\n",
        "tuple2 = (4, 5, 6)\n",
        "result = tuple1 + tuple2\n",
        "print(result)  # Output: (1, 2, 3, 4, 5, 6)"
      ],
      "metadata": {
        "id": "OVvplhOaK0Hm"
      },
      "execution_count": null,
      "outputs": []
    },
    {
      "cell_type": "markdown",
      "source": [
        "* Repetition: You can repeat a tuple by multiplying it with an integer."
      ],
      "metadata": {
        "id": "R3cIvXovK1sC"
      }
    },
    {
      "cell_type": "code",
      "source": [
        "tuple3 = (7, 8, 9)\n",
        "result = tuple3 * 3\n",
        "print(result)  # Output: (7, 8, 9, 7, 8, 9, 7, 8, 9)"
      ],
      "metadata": {
        "id": "FFv_0APpK4Hp"
      },
      "execution_count": null,
      "outputs": []
    },
    {
      "cell_type": "markdown",
      "source": [
        "Tuples also support various operations such as slicing, indexing, and membership testing, similar to lists."
      ],
      "metadata": {
        "id": "4QOfLRsGK6Hs"
      }
    },
    {
      "cell_type": "code",
      "source": [
        "my_tuple = (1, 2, 3, 4, 5)\n",
        "\n",
        "# Slicing\n",
        "subtuple = my_tuple[1:4]\n",
        "print(subtuple)  # Output: (2, 3, 4)\n",
        "\n",
        "# Indexing\n",
        "print(my_tuple[0])  # Output: 1\n",
        "\n",
        "# Membership testing\n",
        "print(3 in my_tuple)  # Output: True"
      ],
      "metadata": {
        "id": "qL99K4p_K8Cy"
      },
      "execution_count": null,
      "outputs": []
    },
    {
      "cell_type": "markdown",
      "source": [
        "# Tuple Unpacking and Packing in Python\n",
        "\n",
        "**Introduction to Tuple Unpacking**\n",
        "\n",
        "Tuple unpacking is a convenient feature in Python that allows you to assign multiple variables from a tuple in a single line. This is particularly useful when you have functions or methods that return tuples, and you want to assign each value to a separate variable."
      ],
      "metadata": {
        "id": "WBPm1Ud0K-he"
      }
    },
    {
      "cell_type": "code",
      "source": [
        "# Tuple unpacking\n",
        "my_tuple = (1, 2, 3)\n",
        "a, b, c = my_tuple\n",
        "print(a)  # Output: 1\n",
        "print(b)  # Output: 2\n",
        "print(c)  # Output: 3"
      ],
      "metadata": {
        "id": "pHsxL24ZLNFa"
      },
      "execution_count": null,
      "outputs": []
    },
    {
      "cell_type": "markdown",
      "source": [
        "In this example, the values in my_tuple are unpacked into variables a, b, and c respectively.\n",
        "\n",
        "**Explanation of Tuple Packing**\n",
        "\n",
        "Tuple packing is the opposite operation of tuple unpacking. It involves combining multiple values into a single tuple."
      ],
      "metadata": {
        "id": "sarKn2XiLPlj"
      }
    },
    {
      "cell_type": "code",
      "source": [
        "# Tuple packing\n",
        "x = 10\n",
        "y = 20\n",
        "z = 30\n",
        "my_packed_tuple = x, y, z\n",
        "print(my_packed_tuple)  # Output: (10, 20, 30)"
      ],
      "metadata": {
        "id": "UFYmhowkLSyP"
      },
      "execution_count": null,
      "outputs": []
    },
    {
      "cell_type": "markdown",
      "source": [
        "In this example, the values of x, y, and z are packed into a single tuple my_packed_tuple.\n",
        "\n",
        "Tuple packing is commonly used when returning multiple values from a function or method. The values are automatically packed into a tuple, which can then be unpacked by the caller."
      ],
      "metadata": {
        "id": "UhFLhNdBLVg2"
      }
    },
    {
      "cell_type": "code",
      "source": [
        "# Function returning multiple values\n",
        "def get_coordinates():\n",
        "    x = 10\n",
        "    y = 20\n",
        "    z = 30\n",
        "    return x, y, z\n",
        "\n",
        "# Unpacking values returned by the function\n",
        "x_coord, y_coord, z_coord = get_coordinates()\n",
        "print(x_coord, y_coord, z_coord)  # Output: 10 20 30"
      ],
      "metadata": {
        "id": "PorzIxzfLaOV"
      },
      "execution_count": null,
      "outputs": []
    },
    {
      "cell_type": "markdown",
      "source": [
        "Tuple packing and unpacking are powerful features in Python that allow you to work with tuples efficiently, especially when dealing with multiple values or functions that return tuples. They contribute to the readability and conciseness of your code, making it easier to work with complex data structures and functions."
      ],
      "metadata": {
        "id": "GJiiabekLhic"
      }
    },
    {
      "cell_type": "markdown",
      "source": [
        "# List Comprehensions in Python\n",
        "\n",
        "**Introduction to List Comprehensions**\n",
        "\n",
        "List comprehensions provide a concise and readable way to create lists in Python based on existing lists or other iterable objects. They offer a more compact syntax compared to traditional looping constructs, making code more expressive and easier to understand.\n",
        "\n",
        "**Syntax of List Comprehensions**\n",
        "\n",
        "The general syntax of a list comprehension is:"
      ],
      "metadata": {
        "id": "w4z-1Bp0LjnM"
      }
    },
    {
      "cell_type": "code",
      "source": [
        "new_list = [expression for item in iterable if condition]"
      ],
      "metadata": {
        "id": "1o-VAaAWL1tr"
      },
      "execution_count": null,
      "outputs": []
    },
    {
      "cell_type": "markdown",
      "source": [
        "* expression: The expression to be evaluated for each item.\n",
        "* item: The variable representing each item in the iterable.\n",
        "* iterable: The iterable object (e.g., list, tuple, or range) to iterate over.\n",
        "* condition (optional): An optional condition that filters the items.\n",
        "\n",
        "**Examples of List Comprehensions**\n",
        "\n",
        "* Creating a List of Squares"
      ],
      "metadata": {
        "id": "gTXcz8i2L6LG"
      }
    },
    {
      "cell_type": "code",
      "source": [
        "squares = [x**2 for x in range(1, 6)]\n",
        "print(squares)  # Output: [1, 4, 9, 16, 25]"
      ],
      "metadata": {
        "id": "Ut2uHRcxME6F"
      },
      "execution_count": null,
      "outputs": []
    },
    {
      "cell_type": "markdown",
      "source": [
        "* Filtering Even Numbers"
      ],
      "metadata": {
        "id": "fWelJwLNMHAd"
      }
    },
    {
      "cell_type": "code",
      "source": [
        "numbers = [1, 2, 3, 4, 5, 6, 7, 8, 9, 10]\n",
        "even_numbers = [x for x in numbers if x % 2 == 0]\n",
        "print(even_numbers)  # Output: [2, 4, 6, 8, 10]"
      ],
      "metadata": {
        "id": "7QbSrlwoMMa4"
      },
      "execution_count": null,
      "outputs": []
    },
    {
      "cell_type": "markdown",
      "source": [
        "* Mapping with Upper Case"
      ],
      "metadata": {
        "id": "hpMyNTqCML-M"
      }
    },
    {
      "cell_type": "code",
      "source": [
        "words = [\"apple\", \"banana\", \"cherry\"]\n",
        "upper_case_words = [word.upper() for word in words]\n",
        "print(upper_case_words)  # Output: ['APPLE', 'BANANA', 'CHERRY']"
      ],
      "metadata": {
        "id": "nWmMQq67MVBz"
      },
      "execution_count": null,
      "outputs": []
    },
    {
      "cell_type": "markdown",
      "source": [
        "* Creating Tuples"
      ],
      "metadata": {
        "id": "nZWnZC04MWq0"
      }
    },
    {
      "cell_type": "code",
      "source": [
        "tuples = [(x, x**2) for x in range(1, 4)]\n",
        "print(tuples)  # Output: [(1, 1), (2, 4), (3, 9)]"
      ],
      "metadata": {
        "id": "Hfkft-_1MZos"
      },
      "execution_count": null,
      "outputs": []
    },
    {
      "cell_type": "markdown",
      "source": [
        "* Nested List Comprehensions"
      ],
      "metadata": {
        "id": "rFuYQ2-XMcNs"
      }
    },
    {
      "cell_type": "code",
      "source": [
        "matrix = [[1, 2, 3], [4, 5, 6], [7, 8, 9]]\n",
        "flattened_matrix = [item for row in matrix for item in row]\n",
        "print(flattened_matrix)  # Output: [1, 2, 3, 4, 5, 6, 7, 8, 9]"
      ],
      "metadata": {
        "id": "TrGu0fTdMg0p"
      },
      "execution_count": null,
      "outputs": []
    },
    {
      "cell_type": "markdown",
      "source": [
        "List comprehensions are versatile and can be used for a wide range of tasks including filtering, mapping, and transforming data in a concise and efficient manner. They are considered Pythonic and are widely used in Python programming."
      ],
      "metadata": {
        "id": "aOm84_nPMlaG"
      }
    },
    {
      "cell_type": "markdown",
      "source": [
        "# Activitie\n",
        "\n",
        "1. Create a list comprehension to generate a list of squares of even numbers from 1 to 20.\n",
        "2. Generate a list of tuples containing the number and its cube for all numbers from 1 to 10.\n",
        "3. Use list comprehension to extract vowels from a given string.\n",
        "4. Create a list comprehension to generate a list of prime numbers between 1 and 100.\n",
        "5. Generate a list of tuples containing the index and value of all elements in a given list.\n",
        "6. Use list comprehension to convert a list of strings to uppercase.\n",
        "7. Create a list comprehension to generate a list of all possible combinations of two dice rolls.\n",
        "8. Generate a list of tuples containing the number and its factorial for all numbers from 1 to 10.\n",
        "9. Use list comprehension to remove all duplicate elements from a given list.\n",
        "10. Create a list comprehension to generate a list of Fibonacci numbers up to the 10th term.\n",
        "11. Generate a list of tuples containing the ASCII code and character for all lowercase letters.\n",
        "12. Use list comprehension to filter out negative numbers from a given list.\n",
        "13. Create a list comprehension to generate a list of tuples containing the number and its square root for all perfect squares up to 100.\n",
        "14. Generate a list of tuples containing the number and its binary representation for all numbers from 1 to 10.\n",
        "15. Use list comprehension to flatten a list of lists into a single list.\n",
        "16. Create a list comprehension to generate a list of tuples containing the number and its reverse for all numbers from 1 to 100.\n",
        "17. Generate a list of tuples containing the number and its square for all numbers from 1 to 20 skipping multiples of 3.\n",
        "18. Use list comprehension to filter out consonants from a given string.\n",
        "19. Create a list comprehension to generate a list of tuples containing the number and its cube root for all perfect cubes up to 1000.\n",
        "20. Generate a list of tuples containing the number and its hexadecimal representation for all numbers from 1 to 16.\n",
        "21. Use list comprehension to remove all whitespace characters from a given string.\n",
        "22. Create a list comprehension to generate a list of all prime factors of a given number.\n",
        "23. Generate a list of tuples containing the number and its square for all even numbers from 1 to 20.\n",
        "24. Use list comprehension to reverse each string in a list of strings.\n",
        "25. Create a list comprehension to generate a list of tuples containing the number and its absolute value for all numbers from -10 to 10."
      ],
      "metadata": {
        "id": "KOESuSiMMo62"
      }
    }
  ]
}