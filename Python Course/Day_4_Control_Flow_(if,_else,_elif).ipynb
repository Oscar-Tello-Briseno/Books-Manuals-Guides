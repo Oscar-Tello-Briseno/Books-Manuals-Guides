{
  "nbformat": 4,
  "nbformat_minor": 0,
  "metadata": {
    "colab": {
      "provenance": []
    },
    "kernelspec": {
      "name": "python3",
      "display_name": "Python 3"
    },
    "language_info": {
      "name": "python"
    }
  },
  "cells": [
    {
      "cell_type": "markdown",
      "source": [
        "# Introduction to Control Flow:\n",
        "\n",
        "Control flow refers to the order in which statements and instructions are executed in a program. It allows programmers to direct the flow of execution based on conditions, loops, and function calls. Control flow is essential for defining the logic and behavior of a program, enabling it to respond dynamically to different situations.\n",
        "\n",
        "**Explanation of Control Flow and Its Role:**\n",
        "\n",
        "Control flow determines the sequence in which statements are executed within a program. It allows developers to control the execution path based on specific conditions or criteria. Control flow constructs, such as conditional statements (if, else, elif), loops (for, while), and function calls, enable programmers to implement decision-making logic, iteration, and modularization in their code.\n",
        "\n",
        "**Importance of Conditional Statements:**\n",
        "\n",
        "Conditional statements are fundamental control flow constructs that allow programmers to make decisions and execute different code blocks based on specified conditions. They enable the program to choose between alternative paths of execution, depending on the evaluation of boolean expressions. Conditional statements provide flexibility and allow programs to respond dynamically to varying inputs and states.\n",
        "\n",
        "**Examples:**\n",
        "\n",
        "1. If Statement:"
      ],
      "metadata": {
        "id": "u7a2SPHPAG8H"
      }
    },
    {
      "cell_type": "code",
      "execution_count": null,
      "metadata": {
        "id": "Mp_QHAJt_Z5i"
      },
      "outputs": [],
      "source": [
        "x = 10\n",
        "if x > 0:\n",
        "    print(\"x is positive\")"
      ]
    },
    {
      "cell_type": "markdown",
      "source": [
        "2. If-Else Statement:"
      ],
      "metadata": {
        "id": "SPtEByGRAThd"
      }
    },
    {
      "cell_type": "code",
      "source": [
        "x = -5\n",
        "if x > 0:\n",
        "    print(\"x is positive\")\n",
        "else:\n",
        "    print(\"x is non-positive\")"
      ],
      "metadata": {
        "id": "Cw7MJI5RAWe4"
      },
      "execution_count": null,
      "outputs": []
    },
    {
      "cell_type": "markdown",
      "source": [
        "3. Elif Statement:"
      ],
      "metadata": {
        "id": "OqBfU5GWAYls"
      }
    },
    {
      "cell_type": "code",
      "source": [
        "x = 0\n",
        "if x > 0:\n",
        "    print(\"x is positive\")\n",
        "elif x == 0:\n",
        "    print(\"x is zero\")\n",
        "else:\n",
        "    print(\"x is negative\")"
      ],
      "metadata": {
        "id": "9tO8TNZSAbtG"
      },
      "execution_count": null,
      "outputs": []
    },
    {
      "cell_type": "markdown",
      "source": [
        "In these examples, conditional statements are used to control the flow of execution based on the value of the variable x. Depending on whether x is positive, non-positive, or zero, different messages are printed to the console. This demonstrates how conditional statements play a crucial role in directing the flow of program execution and making decisions in code."
      ],
      "metadata": {
        "id": "iXQj9nArAd1G"
      }
    },
    {
      "cell_type": "markdown",
      "source": [
        "\n",
        "# Comparison Operators Review:\n",
        "\n",
        "Comparison operators are used to compare values and determine the relationship between them. They return boolean values (True or False) based on the comparison result. Understanding and effectively using comparison operators is essential for implementing conditional logic in programming.\n",
        "\n",
        "**Recap of Comparison Operators:**\n",
        "\n",
        "* Equal (==): Checks if two values are equal.\n",
        "* Not Equal (!=): Checks if two values are not equal.\n",
        "* Less Than (<): Checks if the left operand is less than the right operand.\n",
        "* Greater Than (>): Checks if the left operand is greater than the right operand.\n",
        "* Less Than or Equal To (<=): Checks if the left operand is less than or equal to the right operand.\n",
        "* Greater Than or Equal To (>=): Checks if the left operand is greater than or equal to the right operand.\n"
      ],
      "metadata": {
        "id": "Oax7wjYCAgOs"
      }
    },
    {
      "cell_type": "markdown",
      "source": [
        "# Nested if Statements:\n",
        "\n",
        "Nested if statements allow programmers to handle complex branching logic by nesting one if statement inside another. This enables the creation of multi-level decision-making structures, where different conditions are evaluated sequentially to determine the flow of program execution.\n",
        "\n",
        "**Understanding Nested if Statements:**\n",
        "\n",
        "Nested if statements involve placing one if statement inside another if block. When the outer if condition is true, the program proceeds to evaluate the inner if condition. This nesting can continue to multiple levels, allowing for intricate decision-making logic based on multiple conditions.\n",
        "\n",
        "**Examples of Nested if-else Structures:**\n",
        "\n",
        "1. Nested if Statement:"
      ],
      "metadata": {
        "id": "bJfB_yEhBUha"
      }
    },
    {
      "cell_type": "code",
      "source": [
        "x = 10\n",
        "if x > 0:\n",
        "    print(\"x is positive\")\n",
        "    if x % 2 == 0:\n",
        "        print(\"x is even\")\n",
        "    else:\n",
        "        print(\"x is odd\")\n"
      ],
      "metadata": {
        "id": "niVdZ4sSBdIf"
      },
      "execution_count": null,
      "outputs": []
    },
    {
      "cell_type": "markdown",
      "source": [
        "2. Nested if-else Statement:"
      ],
      "metadata": {
        "id": "nx2UrcWKBjnz"
      }
    },
    {
      "cell_type": "code",
      "source": [
        "score = 85\n",
        "if score >= 90:\n",
        "    print(\"Grade: A\")\n",
        "else:\n",
        "    if score >= 80:\n",
        "        print(\"Grade: B\")\n",
        "    else:\n",
        "        if score >= 70:\n",
        "            print(\"Grade: C\")\n",
        "        else:\n",
        "            print(\"Grade: D\")"
      ],
      "metadata": {
        "id": "dANbRwYhBo0R"
      },
      "execution_count": null,
      "outputs": []
    },
    {
      "cell_type": "markdown",
      "source": [
        "3. Nested if-elif-else Statement:\n"
      ],
      "metadata": {
        "id": "fg4JkMtlBsWW"
      }
    },
    {
      "cell_type": "code",
      "source": [
        "temperature = 25\n",
        "if temperature > 30:\n",
        "    print(\"It's hot outside!\")\n",
        "elif temperature > 20:\n",
        "    print(\"It's warm outside.\")\n",
        "    if temperature > 25:\n",
        "        print(\"Wear light clothing.\")\n",
        "    else:\n",
        "        print(\"Enjoy the weather!\")\n",
        "else:\n",
        "    print(\"It's cold outside.\")\n"
      ],
      "metadata": {
        "id": "xW5uBMrSBvjy"
      },
      "execution_count": null,
      "outputs": []
    },
    {
      "cell_type": "markdown",
      "source": [
        "In these examples, nested if statements are used to handle complex branching logic. Depending on the conditions evaluated at each level, different code blocks are executed. For instance, in Example 1, if the value of x is positive, the program further checks if x is even or odd. Similarly, in Example 2 and 3, nested if-else and if-elif-else structures are used for multi-level decision-making based on the values of score and temperature, respectively.\n",
        "\n",
        "Nested if statements are useful for handling scenarios where the decision-making process involves multiple conditions and levels of complexity. However, excessive nesting can lead to code that is difficult to read and maintain, so it's essential to use them judiciously and consider alternative approaches, such as refactoring or using switch-case constructs in some cases."
      ],
      "metadata": {
        "id": "TG35xNP3B0iB"
      }
    },
    {
      "cell_type": "markdown",
      "source": [
        "# Short-circuit Evaluation:\n",
        "\n",
        "Short-circuit evaluation is a technique used in programming to optimize conditional expressions by minimizing unnecessary evaluations. It allows for more efficient code execution by stopping the evaluation of a logical expression as soon as the outcome can be determined, based on the evaluation of the operands.\n",
        "\n",
        "**Introduction to Short-circuit Evaluation:**\n",
        "\n",
        "Short-circuit evaluation occurs when the result of a logical expression can be determined without evaluating all of its operands. In other words, if the outcome of the expression can be deduced from evaluating only a subset of the operands, the remaining operands are not evaluated. This helps improve performance and efficiency, especially in situations where evaluation of all operands is unnecessary.\n",
        "\n",
        "**Explanation of Logical Operators and Short-circuit Evaluation:**\n",
        "\n",
        "* Logical AND (and): In a logical AND operation, if the left operand evaluates to false, the entire expression is false regardless of the value of the right operand. Therefore, if the left operand is false, the right operand is not evaluated due to short-circuiting.\n",
        "* Logical OR (or): In a logical OR operation, if the left operand evaluates to true, the entire expression is true regardless of the value of the right operand. Therefore, if the left operand is true, the right operand is not evaluated due to short-circuiting.\n",
        "\n",
        "**Examples:**\n",
        "\n",
        "1. Short-circuit Evaluation with Logical AND:"
      ],
      "metadata": {
        "id": "thV7dKysB1e6"
      }
    },
    {
      "cell_type": "code",
      "source": [
        "x = 5\n",
        "y = 10\n",
        "if x > 0 and y > 0:\n",
        "    print(\"Both x and y are positive.\")\n"
      ],
      "metadata": {
        "id": "3T_AfnE_CP-u"
      },
      "execution_count": null,
      "outputs": []
    },
    {
      "cell_type": "markdown",
      "source": [
        "2. Short-circuit Evaluation with Logical OR:"
      ],
      "metadata": {
        "id": "Wjo1mD5ACRVg"
      }
    },
    {
      "cell_type": "code",
      "source": [
        "a = 0\n",
        "b = 20\n",
        "if a == 0 or b > 10:\n",
        "    print(\"At least one condition is true.\")\n"
      ],
      "metadata": {
        "id": "d1ODKaQ7CTv3"
      },
      "execution_count": null,
      "outputs": []
    },
    {
      "cell_type": "markdown",
      "source": [
        "In these examples, short-circuit evaluation is demonstrated with logical AND and OR operators. In the first example, if x is not greater than 0, the condition y > 0 is not evaluated due to short-circuiting. Similarly, in the second example, if a is equal to 0, the condition b > 10 is not evaluated because the logical OR operation has already determined the entire expression to be true.\n",
        "\n",
        "Short-circuit evaluation is a powerful optimization technique that can improve the efficiency of conditional expressions, especially in scenarios involving complex logical operations or expensive evaluations. Understanding how logical operators utilize short-circuit evaluation can help programmers write more efficient and performant code."
      ],
      "metadata": {
        "id": "BDycnJj-CV0M"
      }
    },
    {
      "cell_type": "markdown",
      "source": [
        "\n",
        "# Conditional Expressions (Ternary Operator):\n",
        "\n",
        "Conditional expressions, also known as the ternary operator, provide a concise and expressive way to write if-else statements in a single line of code. They offer a compact syntax for evaluating conditions and returning different values based on the outcome of the condition.\n",
        "\n",
        "**Overview of Conditional Expressions:**\n",
        "\n",
        "Conditional expressions allow programmers to express conditional logic in a more compact form compared to traditional if-else statements. They are particularly useful in situations where a simple decision needs to be made based on a condition, and a concise syntax is preferred.\n",
        "\n",
        "**Syntax of the Ternary Operator:**\n",
        "\n",
        "The syntax of the ternary operator in Python is as follows:"
      ],
      "metadata": {
        "id": "zE0AsLBoCYDn"
      }
    },
    {
      "cell_type": "code",
      "source": [
        "<expression_if_true> if <condition> else <expression_if_false>"
      ],
      "metadata": {
        "id": "xIABuDRvCl_7"
      },
      "execution_count": null,
      "outputs": []
    },
    {
      "cell_type": "markdown",
      "source": [
        "**This syntax consists of three parts:**\n",
        "\n",
        "* condition: The condition to be evaluated. If it evaluates to True, the expression_if_true is executed; otherwise, expression_if_false is executed.\n",
        "* expression_if_true: The value to be returned if the condition is True.\n",
        "* expression_if_false: The value to be returned if the condition is False.\n",
        "\n",
        "**Examples of Using the Ternary Operator:**\n",
        "\n",
        "1. Simple Example:"
      ],
      "metadata": {
        "id": "p2RSYGrVCoug"
      }
    },
    {
      "cell_type": "code",
      "source": [
        "x = 10\n",
        "result = \"Even\" if x % 2 == 0 else \"Odd\"\n",
        "print(result)\n"
      ],
      "metadata": {
        "id": "gxx9J6QADDws"
      },
      "execution_count": null,
      "outputs": []
    },
    {
      "cell_type": "markdown",
      "source": [
        "2. Using with Function Call:"
      ],
      "metadata": {
        "id": "z4P84X3KDFUR"
      }
    },
    {
      "cell_type": "code",
      "source": [
        "def greet(name):\n",
        "    return \"Hello, \" + name if name else \"Hello, World!\"\n",
        "\n",
        "print(greet(\"Alice\"))  # Output: Hello, Alice\n",
        "print(greet(\"\"))       # Output: Hello, World!\n"
      ],
      "metadata": {
        "id": "nwHZAIr3DJaa"
      },
      "execution_count": null,
      "outputs": []
    },
    {
      "cell_type": "markdown",
      "source": [
        "3. Assigning Values to Variables:"
      ],
      "metadata": {
        "id": "axgLsmY3DLI0"
      }
    },
    {
      "cell_type": "code",
      "source": [
        "age = 25\n",
        "category = \"Adult\" if age >= 18 else \"Minor\"\n",
        "print(category)\n"
      ],
      "metadata": {
        "id": "JCu7a8L0DSk1"
      },
      "execution_count": null,
      "outputs": []
    },
    {
      "cell_type": "markdown",
      "source": [
        "In these examples, the ternary operator is used to assign values to variables or return values based on conditions in a concise manner. It eliminates the need for writing if-else statements when the logic is straightforward and can be expressed in a single line.\n",
        "\n",
        "The ternary operator is a powerful tool for improving code readability and reducing verbosity, especially in situations where conditional expressions are simple and do not require complex branching logic. However, it's essential to use it judiciously and maintain code clarity and readability."
      ],
      "metadata": {
        "id": "hmd5X-4MDVHr"
      }
    },
    {
      "cell_type": "markdown",
      "source": [
        "# Activity\n",
        "\n",
        "1. Write a Python script that takes three integers as arguments and returns the largest among them using conditional statements.\n",
        "2. Create a program that checks if a given year is a leap year or not using comparison operators and conditional statements.\n",
        "3. Implement a script that determines whether a given number is positive, negative, or zero using nested if statements.\n",
        "4. Develop a Python script that calculates the final grade of a student based on their exam score using nested if-else structures for multi-level decision-making.\n",
        "5. Write a program that validates a user's password based on certain criteria (e.g., length, presence of special characters) using conditional statements.\n",
        "6. Design a program that checks whether a given string is a palindrome or not using conditional expressions and string comparison.\n",
        "7. Create a script that simulates a simple login system where users enter their username and password. If the username and password match predefined values, display a welcome message; otherwise, show an error message.\n",
        "8. Develop a script that determines the type of a given triangle (equilateral, isosceles, or scalene) based on the lengths of its sides using conditional expressions.\n",
        "9. Write a program that determines whether a given number is prime or composite using nested if statements for multi-level decision-making.\n",
        "10. Create a program that simulates a simple ATM. Ask the user to input their account balance. If the balance is greater than or equal to 1000, print \"You have enough funds.\" If it is less than 1000, print \"Insufficient funds.\"\n",
        "11. Create a Python script that simulates a ticket booking system. If the user's age is below 18, display a message indicating they are not allowed to book tickets; otherwise, proceed with the booking process.\n",
        "12. Develop a program that checks if a given string is a valid email address using conditional expressions and string manipulation.\n",
        "13. Write a script that determines whether a given year is a century year (ending in \"00\") and a leap year simultaneously using conditional statements.\n",
        "14. Create a script that calculates the area of various geometric shapes (circle, rectangle, triangle) based on user input. Use conditional statements to determine the shape and compute its area accordingly.\n",
        "15. Implement a program that simulates a basic calculator with operations such as addition, subtraction, multiplication, and division. Use conditional statements to determine the operation to be performed.\n",
        "16. Develop a program that categorizes a given list of numbers into positive, negative, and zero categories using conditional expressions and list comprehension.\n",
        "17. Write a Python script that simulates a rock-paper-scissors game against the computer. Use conditional statements to determine the winner based on user and computer inputs.\n",
        "18. Create a program that generates a random number between 1 and 100 and asks the user to guess it. Provide hints (higher/lower) using conditional statements until the user guesses the correct number.\n",
        "19. Develop a script that converts a given temperature from Celsius to Fahrenheit or vice versa. Use conditional expressions to determine the conversion formula.\n",
        "20. Write a Python script that checks if a given number is a perfect square using short-circuit evaluation and conditional expressions.\n",
        "21. Implement a program that validates a given credit card number using conditional statements.\n",
        "22. Create a script that determines whether a given year is a leap year or not without using the modulo operator (%) and only using comparison operators.\n",
        "23. Develop a script that categorizes a list of words into vowels and consonants using conditional expressions and string manipulation.\n",
        "24. Write a program that simulates a simple ATM machine. Use conditional statements to handle different operations such as withdrawal, deposit, and balance inquiry.\n",
        "25. Develop a program that simulates a simple temperature converter in Celsius. If the temperature is above 100 degrees, print \"Very Hot.\" If it is between 50 and 100 degrees, print \"Moderate.\" Otherwise, print \"Cold.\""
      ],
      "metadata": {
        "id": "hJn7HNICDcV7"
      }
    }
  ]
}