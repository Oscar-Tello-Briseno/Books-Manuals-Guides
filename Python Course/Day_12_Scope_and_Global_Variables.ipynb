{
  "nbformat": 4,
  "nbformat_minor": 0,
  "metadata": {
    "colab": {
      "provenance": []
    },
    "kernelspec": {
      "name": "python3",
      "display_name": "Python 3"
    },
    "language_info": {
      "name": "python"
    }
  },
  "cells": [
    {
      "cell_type": "markdown",
      "source": [
        "# Introduction to Scope:\n",
        "**Definition of Scope:**\n",
        "\n",
        "Scope refers to the region of code where a variable is accessible.\n",
        "In Python, variables can have different scopes, such as local scope (inside a function), global scope (outside any function), and built-in scope (predefined names in Python).\n",
        "\n",
        "The scope of a variable determines where it can be accessed and modified within a program.\n",
        "\n",
        "Understanding scope is crucial for writing clean and maintainable code, as it helps prevent naming conflicts and ensures that variables are used in the appropriate context.\n",
        "\n",
        "Here's a simple example to illustrate scope in Python:"
      ],
      "metadata": {
        "id": "efH-kR7Gv_ac"
      }
    },
    {
      "cell_type": "code",
      "source": [
        "# Global scope\n",
        "global_variable = 10\n",
        "\n",
        "def my_function():\n",
        "    # Local scope\n",
        "    local_variable = 20\n",
        "    print(\"Inside function:\", global_variable)  # Accessing global variable\n",
        "    print(\"Inside function:\", local_variable)   # Accessing local variable\n",
        "\n",
        "my_function()\n",
        "print(\"Outside function:\", global_variable)     # Accessing global variable\n",
        "# print(\"Outside function:\", local_variable)    # This would result in an error as local_variable is not accessible here"
      ],
      "metadata": {
        "id": "imbm6uwryvtO"
      },
      "execution_count": null,
      "outputs": []
    },
    {
      "cell_type": "markdown",
      "source": [
        "In this example:\n",
        "\n",
        "* global_variable is accessible both inside and outside the function because it's in the global scope.\n",
        "* local_variable is accessible only within the my_function() because it's in the local scope of that function."
      ],
      "metadata": {
        "id": "IKqzVHI-yyHd"
      }
    },
    {
      "cell_type": "markdown",
      "source": [
        "# Global Scope:\n",
        "**Introduction to Global Scope:**\n",
        "\n",
        "* Global scope refers to the outermost scope in Python, accessible throughout the entire program.\n",
        "*  Variables defined in the global scope are accessible from any part of the program, including inside functions.\n",
        "\n",
        "**Explanation of Global Variables:**\n",
        "\n",
        "* Global variables are variables defined in the global scope.\n",
        "* They can be accessed and modified from any part of the program.\n",
        "\n",
        "**Demonstrations of Defining and Accessing Global Variables:**\n",
        "\n",
        "* Global variables can be defined and accessed both within and outside function bodies.\n",
        "* Modifying global variables within functions requires the use of the global keyword to indicate that the variable is global.\n",
        "\n",
        "Example 1: Defining and accessing global variables"
      ],
      "metadata": {
        "id": "35rB-tnpy5t3"
      }
    },
    {
      "cell_type": "code",
      "source": [
        "global_variable = 10\n",
        "\n",
        "def my_function():\n",
        "    print(\"Inside function:\", global_variable)  # Accessing global variable\n",
        "\n",
        "my_function()\n",
        "print(\"Outside function:\", global_variable)     # Accessing global variable"
      ],
      "metadata": {
        "id": "2RU4xINC3Hg9"
      },
      "execution_count": null,
      "outputs": []
    },
    {
      "cell_type": "markdown",
      "source": [
        "Example 2: Modifying global variables within functions"
      ],
      "metadata": {
        "id": "orto76Xu3KVM"
      }
    },
    {
      "cell_type": "code",
      "source": [
        "global_variable = 10\n",
        "\n",
        "def my_function():\n",
        "    global global_variable\n",
        "    global_variable = 20  # Modifying global variable\n",
        "    print(\"Inside function:\", global_variable)\n",
        "\n",
        "my_function()\n",
        "print(\"Outside function:\", global_variable)  # Accessing modified global variable"
      ],
      "metadata": {
        "id": "Ut-6YT5h3MUw"
      },
      "execution_count": null,
      "outputs": []
    },
    {
      "cell_type": "markdown",
      "source": [
        "**In these examples:**\n",
        "\n",
        "* The global_variable is defined in the global scope and is accessible both inside and outside the function.\n",
        "* In Example 2, the global keyword is used within the function to modify the global variable. Without it, Python would create a new local variable with the same name instead of modifying the global variable."
      ],
      "metadata": {
        "id": "doLU5dv03Shu"
      }
    },
    {
      "cell_type": "markdown",
      "source": [
        "# Local Scope:\n",
        "**Definition of Local Scope:**\n",
        "\n",
        "* Local scope refers to the innermost scope, where variables are defined within a function.\n",
        "* Variables defined within a function are only accessible within that function's scope.\n",
        "\n",
        "**Demonstrations of Local Variables:**\n",
        "\n",
        "* Local variables are declared and used within a function, and they are not accessible outside of that function.\n",
        "* They are created when the function is called and are destroyed when the function completes execution.\n",
        "\n",
        "**Examples of Shadowing and Variable Naming Conflicts:**\n",
        "\n",
        "* Shadowing occurs when a variable in a local scope has the same name as a variable in an outer scope, effectively hiding the outer variable.\n",
        "* Variable naming conflicts may arise in nested scopes when variables with the same name exist at different levels of scope hierarchy.\n",
        "\n",
        "Example 1: Demonstrating local variables"
      ],
      "metadata": {
        "id": "muQ0Q_UQ5aRF"
      }
    },
    {
      "cell_type": "code",
      "source": [
        "def my_function():\n",
        "    local_variable = 20\n",
        "    print(\"Inside function:\", local_variable)\n",
        "\n",
        "my_function()\n",
        "# print(\"Outside function:\", local_variable)  # This would result in an error as local_variable is not accessible outside the function"
      ],
      "metadata": {
        "id": "yEOzPhx-5oub"
      },
      "execution_count": null,
      "outputs": []
    },
    {
      "cell_type": "markdown",
      "source": [
        "Example 2: Shadowing and variable naming conflicts"
      ],
      "metadata": {
        "id": "EfZzz2r1525Z"
      }
    },
    {
      "cell_type": "code",
      "source": [
        "global_variable = 10\n",
        "\n",
        "def my_function():\n",
        "    global_variable = 20  # Shadowing the global variable\n",
        "    print(\"Inside function:\", global_variable)\n",
        "\n",
        "my_function()\n",
        "print(\"Outside function:\", global_variable)  # Accessing the global variable\n",
        "\n",
        "# Nested scopes\n",
        "def outer_function():\n",
        "    outer_variable = \"outer\"\n",
        "\n",
        "    def inner_function():\n",
        "        outer_variable = \"inner\"  # Variable naming conflict\n",
        "\n",
        "        print(\"Inner function:\", outer_variable)  # Accessing inner variable\n",
        "\n",
        "    inner_function()\n",
        "    print(\"Outer function:\", outer_variable)  # Accessing outer variable\n",
        "\n",
        "outer_function()"
      ],
      "metadata": {
        "id": "PR4uadbb53d4"
      },
      "execution_count": null,
      "outputs": []
    },
    {
      "cell_type": "markdown",
      "source": [
        "**In these examples:**\n",
        "\n",
        "* In Example 1, local_variable is accessible only within the my_function() scope.\n",
        "* In Example 2, the global variable global_variable is shadowed by a local variable within the function.\n",
        "* In the nested scopes example, there's a variable naming conflict where the inner variable outer_variable shadows the outer variable."
      ],
      "metadata": {
        "id": "RBcb5cIg6A7A"
      }
    },
    {
      "cell_type": "markdown",
      "source": [
        "# Enclosing (Non-local) Scope:\n",
        "\n",
        "**Overview of Enclosing Scope:**\n",
        "\n",
        "* Enclosing scope refers to an intermediate scope between local and global scopes, typically found in nested functions.\n",
        "* It arises when functions are defined within other functions, creating a hierarchy of scopes.\n",
        "\n",
        "**Explanation of Non-local Variables:**\n",
        "\n",
        "* Non-local variables are variables that are not defined in the local scope but are also not in the global scope.\n",
        "* They are found in enclosing scopes and can be accessed and modified using the nonlocal keyword.\n",
        "\n",
        "**Examples of Using Non-local Variables:**\n",
        "\n",
        "* Non-local variables are commonly used in nested functions to modify variables in enclosing scopes, providing a way to maintain state across function calls.\n",
        "\n",
        "\n",
        "Example 1: Using non-local variables to modify variables in enclosing scopes"
      ],
      "metadata": {
        "id": "KtOKdEer6PW4"
      }
    },
    {
      "cell_type": "code",
      "source": [
        "def outer_function():\n",
        "    outer_variable = \"outer\"\n",
        "\n",
        "    def inner_function():\n",
        "        nonlocal outer_variable\n",
        "        outer_variable = \"modified\"  # Modifying variable in enclosing scope\n",
        "        print(\"Inner function:\", outer_variable)\n",
        "\n",
        "    inner_function()\n",
        "    print(\"Outer function:\", outer_variable)  # Accessing modified variable in enclosing scope\n",
        "\n",
        "outer_function()"
      ],
      "metadata": {
        "id": "dQNztu5m8QZ5"
      },
      "execution_count": null,
      "outputs": []
    },
    {
      "cell_type": "markdown",
      "source": [
        "**In this example:**\n",
        "\n",
        "* outer_variable is defined in the outer function's scope.\n",
        "* inner_function accesses and modifies outer_variable using the nonlocal keyword."
      ],
      "metadata": {
        "id": "bf-cMc2P8YBS"
      }
    },
    {
      "cell_type": "markdown",
      "source": [
        "# Scope Resolution:\n",
        "**Understanding the LEGB Rule:**\n",
        "\n",
        "* The LEGB rule defines the order in which Python searches for variable names in different scopes.\n",
        "* It stands for Local, Enclosing, Global, and Built-in, indicating the order of precedence when resolving variable names.\n",
        "\n",
        "**Demonstrations of Variable Resolution:**\n",
        "\n",
        "* Variable resolution refers to the process of determining which variable a name refers to in a particular context.\n",
        "* Python follows the LEGB rule to resolve variable names, searching for the name in local, enclosing, global, and built-in scopes, in that order.\n",
        "\n",
        "Example: Demonstrating variable resolution and lookup order"
      ],
      "metadata": {
        "id": "HFBWAWr185Gs"
      }
    },
    {
      "cell_type": "code",
      "source": [
        "global_variable = \"global\"\n",
        "\n",
        "def outer_function():\n",
        "    enclosing_variable = \"enclosing\"\n",
        "\n",
        "    def inner_function():\n",
        "        local_variable = \"local\"\n",
        "        print(\"Inside inner function:\", local_variable)        # Local variable\n",
        "        print(\"Inside inner function:\", enclosing_variable)   # Enclosing variable\n",
        "        print(\"Inside inner function:\", global_variable)      # Global variable\n",
        "\n",
        "    inner_function()\n",
        "    print(\"Inside outer function:\", enclosing_variable)       # Enclosing variable\n",
        "    print(\"Inside outer function:\", global_variable)          # Global variable\n",
        "\n",
        "outer_function()\n",
        "print(\"Outside functions:\", global_variable)                 # Global variable"
      ],
      "metadata": {
        "id": "dkdQouqa9H18"
      },
      "execution_count": null,
      "outputs": []
    },
    {
      "cell_type": "markdown",
      "source": [
        "**In this example:**\n",
        "\n",
        "* Python first looks for the variable name local_variable in the local scope of the inner_function, then in the enclosing scope of the outer_function, and finally in the global scope.\n",
        "* Similarly, enclosing_variable is first found in the enclosing scope of the outer_function, and global_variable is found in the global scope.\n",
        "* If the variable is not found in any of the local, enclosing, or global scopes, Python will look for it in the built-in scope, which contains pre-defined names."
      ],
      "metadata": {
        "id": "1_amD-2u9NE0"
      }
    },
    {
      "cell_type": "markdown",
      "source": [
        "# Activity\n",
        "\n",
        "**Local Scope:**\n",
        "\n",
        "1. Define a function that declares a local variable and prints its value.\n",
        "2. Create a function with a local variable and try to access it outside the function. Observe the resulting error.\n",
        "3. Write a function with nested scopes and access a variable from the outer scope within the inner scope.\n",
        "4. Define a function with a parameter having the same name as a global variable. Observe how it behaves.\n",
        "5. Create a function that shadows a global variable by declaring a local variable with the same name.\n",
        "6. Write a function that modifies a global variable within its local scope using the global keyword.\n",
        "\n",
        "**Global Scope:**\n",
        "\n",
        "7. Declare a global variable and access it within a function.\n",
        "8. Define a function that tries to modify a global variable without using the global keyword. Observe the result.\n",
        "9. Create a function that modifies a global variable and returns the modified value.\n",
        "10. Write a script that demonstrates the accessibility of global variables across multiple functions.\n",
        "11. Define a function that tries to access a local variable with the same name as a global variable. Observe the result.\n",
        "12. Create a script with a global variable defined outside any function and access it from within a nested function.\n",
        "\n",
        "**Enclosing (Non-local) Scope:**\n",
        "\n",
        "13. Write a function with a nested function that accesses a variable from the enclosing scope.\n",
        "14. Define a function that modifies a non-local variable in the enclosing scope using the nonlocal keyword.\n",
        "15. Create a script with multiple nested functions and demonstrate the use of non-local variables across different levels of nesting.\n",
        "16. Write a function with a nested function that attempts to modify a global variable. Observe the result.\n",
        "17. Define a function with a non-local variable and access it from a separate function.\n",
        "\n",
        "**Scope Resolution:**\n",
        "\n",
        "18. Write a function with a local variable and a global variable with the same name. Observe the scope resolution.\n",
        "19. Create a script with nested functions and demonstrate the LEGB rule by accessing variables from different scopes.\n",
        "20. Define a function that attempts to access a non-existing variable. Observe the error message.\n",
        "21. Write a script with multiple functions and demonstrate the resolution of variables across different scopes.\n",
        "22. Define a function that accesses a built-in function from within its local scope.\n",
        "23. Create a function that defines a variable in the global scope and accesses it within a nested function.\n",
        "24. Write a script with multiple functions that demonstrates variable resolution and lookup order in different scopes.\n",
        "25. Define a function with a nested function that attempts to access a local variable from an outer scope."
      ],
      "metadata": {
        "id": "zCMzXtXw9xD2"
      }
    }
  ]
}