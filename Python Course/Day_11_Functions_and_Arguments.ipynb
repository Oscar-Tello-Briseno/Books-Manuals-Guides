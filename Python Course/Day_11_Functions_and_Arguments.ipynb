{
  "nbformat": 4,
  "nbformat_minor": 0,
  "metadata": {
    "colab": {
      "provenance": []
    },
    "kernelspec": {
      "name": "python3",
      "display_name": "Python 3"
    },
    "language_info": {
      "name": "python"
    }
  },
  "cells": [
    {
      "cell_type": "markdown",
      "source": [
        "# Introduction to Functions:\n",
        "**Definition of Functions:**\n",
        "\n",
        "Functions are blocks of code that perform a specific task when called. They allow you to break down your code into smaller, manageable pieces, each serving a particular purpose.\n",
        "\n",
        "**Syntax**\n",
        "\n",
        "The syntax of defining a function includes:\n",
        "* def keyword: It marks the beginning of the function definition.\n",
        "* Function name: A unique identifier for the function.\n",
        "* Parameters (optional): Inputs that the function expects.\n",
        "* Function body: The block of code that executes when the function is called.\n",
        "* Return statement (optional): Specifies the value that the function should return.\n"
      ],
      "metadata": {
        "id": "xfWF3kyYi1qJ"
      }
    },
    {
      "cell_type": "code",
      "execution_count": null,
      "metadata": {
        "id": "kWdwhXEKi1CQ"
      },
      "outputs": [],
      "source": [
        "def function_name(parameters):\n",
        "    # Function body\n",
        "    # Perform tasks\n",
        "    return something"
      ]
    },
    {
      "cell_type": "markdown",
      "source": [
        "**Example**"
      ],
      "metadata": {
        "id": "Kpvw1lSOjHBL"
      }
    },
    {
      "cell_type": "code",
      "source": [
        "def greet(name):\n",
        "    return f\"Hello, {name}!\"\n",
        "\n",
        "message = greet(\"Alice\")\n",
        "print(message)  # Output: Hello, Alice!"
      ],
      "metadata": {
        "id": "qFY09J6Sjyp3"
      },
      "execution_count": null,
      "outputs": []
    },
    {
      "cell_type": "markdown",
      "source": [
        "**Function Call and Return:**\n",
        "\n",
        "1. Function Call Syntax:\n",
        "* Function call is the process of invoking a function to execute its code. It involves specifying the function name followed by parentheses containing any required arguments.\n",
        "* Syntax: function_name(arguments)\n",
        "2. Return Statement:\n",
        "* The return statement is used to exit a function and return a value back to the caller. It can be used to return a single value or multiple values as a tuple.\n",
        "* Syntax: return expression\n",
        "3. Using Return Values:\n",
        "* Return values can be assigned to variables or used directly in expressions to perform further operations.\n",
        "\n",
        "Example 1: Function call and return statement"
      ],
      "metadata": {
        "id": "jKbYn8lTkise"
      }
    },
    {
      "cell_type": "code",
      "source": [
        "def add(a, b):\n",
        "    return a + b\n",
        "\n",
        "result = add(3, 5)\n",
        "print(result)  # Output: 8"
      ],
      "metadata": {
        "id": "LzvBry-lkz7N"
      },
      "execution_count": null,
      "outputs": []
    },
    {
      "cell_type": "markdown",
      "source": [
        "Example 2: Using return values in assignments and expressions"
      ],
      "metadata": {
        "id": "OYih-Z0PlCkI"
      }
    },
    {
      "cell_type": "code",
      "source": [
        "def multiply(a, b):\n",
        "    return a * b\n",
        "\n",
        "# Using return value in assignment\n",
        "product = multiply(4, 6)\n",
        "print(product)  # Output: 24\n",
        "\n",
        "# Using return value in expression\n",
        "total = add(product, 10)\n",
        "print(total)    # Output: 34"
      ],
      "metadata": {
        "id": "1RbZMj6RlIHb"
      },
      "execution_count": null,
      "outputs": []
    },
    {
      "cell_type": "markdown",
      "source": [
        "In these examples, we define functions (add and multiply) and then call them with appropriate arguments. The return statement in each function specifies the value to be returned to the caller."
      ],
      "metadata": {
        "id": "WID_r03blJ3D"
      }
    },
    {
      "cell_type": "markdown",
      "source": [
        "**Function Arguments:**\n",
        "1. Positional Arguments and Keyword Arguments:\n",
        "\n",
        "* Positional arguments are passed to a function based on their position or order in the function definition.\n",
        "* Keyword arguments are passed with a keyword followed by a value. They allow you to specify arguments out of order or omit certain arguments if they have default values.\n",
        "2. Default Parameter Values:\n",
        "\n",
        "* Default parameter values are specified in the function definition. If an argument is not provided when the function is called, the default value is used.\n",
        "* They play a role in function definition by providing flexibility and allowing functions to be called with fewer arguments.\n",
        "\n",
        "Example 1: Function with positional and keyword arguments"
      ],
      "metadata": {
        "id": "Y3-1M5Q8l6Pl"
      }
    },
    {
      "cell_type": "code",
      "source": [
        "def greet(name, message):\n",
        "    return f\"{message}, {name}!\"\n",
        "\n",
        "# Positional arguments\n",
        "print(greet(\"Alice\", \"Hello\"))  # Output: Hello, Alice!\n",
        "\n",
        "# Keyword arguments\n",
        "print(greet(message=\"Hi\", name=\"Bob\"))  # Output: Hi, Bob!"
      ],
      "metadata": {
        "id": "GyK-h03DmP3o"
      },
      "execution_count": null,
      "outputs": []
    },
    {
      "cell_type": "markdown",
      "source": [
        "Example 2: Function with default parameter values"
      ],
      "metadata": {
        "id": "n380-ztVmTcL"
      }
    },
    {
      "cell_type": "code",
      "source": [
        "def greet(name, message=\"Hello\"):\n",
        "    return f\"{message}, {name}!\"\n",
        "\n",
        "# Calling with only positional argument\n",
        "print(greet(\"Alice\"))  # Output: Hello, Alice!\n",
        "\n",
        "# Calling with both positional and keyword arguments\n",
        "print(greet(\"Bob\", message=\"Hi\"))  # Output: Hi, Bob!"
      ],
      "metadata": {
        "id": "qf4-hgK9mVk8"
      },
      "execution_count": null,
      "outputs": []
    },
    {
      "cell_type": "markdown",
      "source": [
        "In these examples, the greet function accepts a name parameter and an optional message parameter with a default value of \"Hello\"."
      ],
      "metadata": {
        "id": "MK0Kjxb0mXwq"
      }
    },
    {
      "cell_type": "markdown",
      "source": [
        "**Variable-Length Argument Lists:**\n",
        "\n",
        "1. Introduction to *args and kwargs:\n",
        "* *args and **kwargs are special syntax in Python that allow functions to accept a variable number of arguments.\n",
        "* *args is used to pass a variable number of positional arguments, while **kwargs is used to pass a variable number of keyword arguments.\n",
        "\n",
        "\n",
        "Example 1: Using *args to pass a variable number of positional arguments"
      ],
      "metadata": {
        "id": "MidgENZ-nGlY"
      }
    },
    {
      "cell_type": "code",
      "source": [
        "def sum_values(*args):\n",
        "    total = 0\n",
        "    for num in args:\n",
        "        total += num\n",
        "    return total\n",
        "\n",
        "print(sum_values(1, 2, 3, 4, 5))  # Output: 15"
      ],
      "metadata": {
        "id": "HGlj5zdRnbrI"
      },
      "execution_count": null,
      "outputs": []
    },
    {
      "cell_type": "markdown",
      "source": [
        "Example 2: Using **kwargs to pass a variable number of keyword arguments"
      ],
      "metadata": {
        "id": "h6F_eBLdnd0R"
      }
    },
    {
      "cell_type": "code",
      "source": [
        "def display_info(**kwargs):\n",
        "    for key, value in kwargs.items():\n",
        "        print(f\"{key}: {value}\")\n",
        "\n",
        "display_info(name=\"Alice\", age=30, city=\"New York\")\n",
        "# Output:\n",
        "# name: Alice\n",
        "# age: 30\n",
        "# city: New York"
      ],
      "metadata": {
        "id": "SLdKhBcjngN_"
      },
      "execution_count": null,
      "outputs": []
    },
    {
      "cell_type": "markdown",
      "source": [
        "In these examples, *args and **kwargs allow functions to accept any number of positional or keyword arguments, respectively. This flexibility is useful when you're unsure about the number of arguments a function might receive or when you want to pass a variable number of arguments without explicitly specifying them in the function definition."
      ],
      "metadata": {
        "id": "ADeYHWBzniop"
      }
    },
    {
      "cell_type": "markdown",
      "source": [
        "**Advantages of Using Functions:**\n",
        "\n",
        "* Code Organization: Functions help in organizing code into logical blocks, making it easier to understand, maintain, and debug.\n",
        "* Reusability: Once defined, functions can be called multiple times from anywhere in the code, promoting code reuse and reducing redundancy.\n",
        "*Abstraction: Functions allow you to abstract away complex operations behind a simple interface. Users of the function don't need to know the implementation details, enhancing code readability and maintainability.\n",
        "\n",
        "These advantages make functions a fundamental concept in programming, enabling developers to write modular, scalable, and maintainable code.\n",
        "\n",
        "Example demonstrating the advantages of functions:"
      ],
      "metadata": {
        "id": "fmLBz_fjjNE3"
      }
    },
    {
      "cell_type": "code",
      "source": [
        "# Code Organization\n",
        "def calculate_area(radius):\n",
        "    return 3.14 * radius ** 2\n",
        "\n",
        "def calculate_volume(radius, height):\n",
        "    base_area = calculate_area(radius)\n",
        "    return base_area * height\n",
        "\n",
        "# Reusability\n",
        "area1 = calculate_area(5)\n",
        "area2 = calculate_area(10)\n",
        "print(area1, area2)  # Output: 78.5 314.0\n",
        "\n",
        "# Abstraction\n",
        "def display_info(name, age):\n",
        "    print(f\"Name: {name}\")\n",
        "    print(f\"Age: {age}\")\n",
        "\n",
        "display_info(\"Bob\", 25)"
      ],
      "metadata": {
        "id": "JT-sC1L8jXgV"
      },
      "execution_count": null,
      "outputs": []
    },
    {
      "cell_type": "markdown",
      "source": [
        "In this example, functions are used to organize code for calculating area and volume, promote reusability by calculating areas of different circles, and abstract away the details of displaying information."
      ],
      "metadata": {
        "id": "Hn-RUu9DjdKb"
      }
    },
    {
      "cell_type": "markdown",
      "source": [
        "# Lambda Functions:\n",
        "**Introduction to Lambda Functions:**\n",
        "\n",
        "* Lambda functions, also known as anonymous functions, are defined using the lambda keyword.\n",
        "* They are used for creating small, anonymous functions without the need for a formal function definition.\n",
        "\n",
        "**Lambda Function Syntax:**\n",
        "\n",
        "* The syntax of a lambda function is lambda arguments: expression.\n",
        "* Lambda functions can have any number of arguments but only one expression.\n",
        "* They return the result of the expression automatically.\n",
        "\n",
        "Example 1: Lambda function to calculate the square of a number"
      ],
      "metadata": {
        "id": "OjfGQU3Oje__"
      }
    },
    {
      "cell_type": "code",
      "source": [
        "square = lambda x: x ** 2\n",
        "print(square(5))  # Output: 25"
      ],
      "metadata": {
        "id": "fAiHQhZsoEuN"
      },
      "execution_count": null,
      "outputs": []
    },
    {
      "cell_type": "markdown",
      "source": [
        "Example 2: Lambda function to add two numbers"
      ],
      "metadata": {
        "id": "D2oEwas3oPqJ"
      }
    },
    {
      "cell_type": "code",
      "source": [
        "add = lambda a, b: a + b\n",
        "print(add(3, 4))  # Output: 7"
      ],
      "metadata": {
        "id": "td3GFlpzoRPS"
      },
      "execution_count": null,
      "outputs": []
    },
    {
      "cell_type": "markdown",
      "source": [
        "Lambda functions are particularly useful in scenarios where you need a short, one-line function for simple operations, such as mapping or filtering data. They are often used with functions like map(), filter(), and sorted() where a function argument is required but defining a full function is unnecessary or cumbersome."
      ],
      "metadata": {
        "id": "r7YUoFe8oTPJ"
      }
    },
    {
      "cell_type": "markdown",
      "source": [
        "# Activity\n",
        "\n",
        "1. Define a function called say_hello that prints \"Hello, world!\" when called.\n",
        "2. Write a function named calculate_sum that takes two parameters a and b and returns their sum.\n",
        "3. Create a function called square_number that accepts a number as input and returns its square.\n",
        "4. Define a function named greet_person that takes a person's name as an argument and returns a greeting message.\n",
        "5. Write a function called find_maximum that accepts a list of numbers and returns the maximum value.\n",
        "6. Create a function named calculate_average that calculates the average of a list of numbers and returns it.\n",
        "7. Define a function called is_even that takes an integer as input and returns True if it's even, False otherwise.\n",
        "8. Write a function named count_vowels that counts the number of vowels in a given string and returns the count.\n",
        "9. Create a function called concat_strings that concatenates two strings together and returns the result.\n",
        "10. Define a function named power that takes two arguments, base and exponent, and returns base raised to the power of exponent.\n",
        "11. Write a function called reverse_list that reverses the elements of a given list and returns the reversed list.\n",
        "12. Create a function named remove_duplicates that removes duplicate elements from a list and returns the modified list.\n",
        "13. Define a function called add_numbers that accepts any number of arguments and returns their sum.\n",
        "14. Write a function named print_info that takes keyword arguments (name, age, city) and prints out the information.\n",
        "15. Create a function called combine_lists that combines multiple lists into a single list and returns it.\n",
        "16. Define a function named multiply_numbers that accepts any number of arguments and returns their product.\n",
        "17. Write a function called find_common_elements that finds the common elements between two lists and returns them.\n",
        "18. Create a function named filter_even_numbers that filters out even numbers from a list and returns the filtered list.\n",
        "19. Define a function called calculate_total that calculates the total cost of items in a shopping cart using keyword arguments for item names and prices.\n",
        "20. Write a function named sort_strings that sorts a list of strings in alphabetical order and returns the sorted list.\n",
        "21. Create a function called find_average_length that calculates the average length of strings in a list and returns it.\n",
        "22. Define a function named apply_operation that takes a function (operation) and a list of numbers, and applies the operation to each number in the list, returning the results.\n",
        "23. Write a function called format_names that formats a list of names (first name, last name) into a list of full names and returns it.\n",
        "24. Create a function named find_longest_word that finds the longest word in a given sentence and returns it.\n",
        "25. Define a function called remove_odd_indices that removes elements at odd indices from a list and returns the modified list."
      ],
      "metadata": {
        "id": "DDuDWobboupK"
      }
    }
  ]
}