{
  "nbformat": 4,
  "nbformat_minor": 0,
  "metadata": {
    "colab": {
      "provenance": []
    },
    "kernelspec": {
      "name": "python3",
      "display_name": "Python 3"
    },
    "language_info": {
      "name": "python"
    }
  },
  "cells": [
    {
      "cell_type": "markdown",
      "source": [
        "# Strings in Python\n",
        "\n",
        "**Definition of Strings**\n",
        "\n",
        "Strings in Python are sequences of characters enclosed within quotes. You can use single quotes ('), double quotes (\"), or triple quotes (''' or \"\"\") to define strings."
      ],
      "metadata": {
        "id": "Vj-P5Ivm_c-L"
      }
    },
    {
      "cell_type": "code",
      "execution_count": null,
      "metadata": {
        "id": "wcHOvBKT-vii"
      },
      "outputs": [],
      "source": [
        "my_string_single = 'Hello, world!'\n",
        "my_string_double = \"Hello, world!\"\n",
        "my_string_triple = '''Hello, world!'''"
      ]
    },
    {
      "cell_type": "markdown",
      "source": [
        "**String Immutability and Common Operations**\n",
        "\n",
        "Strings in Python are immutable, meaning that once created, their contents cannot be changed. However, you can perform various operations on strings such as concatenation, slicing, and formatting.\n",
        "\n",
        "* Concatenation: You can concatenate two or more strings using the + operator."
      ],
      "metadata": {
        "id": "HGUbkUnw_qjU"
      }
    },
    {
      "cell_type": "code",
      "source": [
        "greeting = \"Hello\"\n",
        "name = \"Alice\"\n",
        "message = greeting + \", \" + name + \"!\"\n",
        "print(message)  # Output: Hello, Alice!"
      ],
      "metadata": {
        "id": "Tmq-W7ze_13Z"
      },
      "execution_count": null,
      "outputs": []
    },
    {
      "cell_type": "markdown",
      "source": [
        "* Slicing: You can extract substrings from a string using slicing notation [start:end:step]."
      ],
      "metadata": {
        "id": "AwtT5Sft_4RA"
      }
    },
    {
      "cell_type": "code",
      "source": [
        "my_string = \"Python\"\n",
        "substring = my_string[2:5]\n",
        "print(substring)  # Output: tho"
      ],
      "metadata": {
        "id": "6ehp7E9Z_-rY"
      },
      "execution_count": null,
      "outputs": []
    },
    {
      "cell_type": "markdown",
      "source": [
        "* String Formatting: You can format strings using various methods such as f-strings, format() method, or % formatting."
      ],
      "metadata": {
        "id": "dCuLTNIeABy0"
      }
    },
    {
      "cell_type": "code",
      "source": [
        "name = \"Bob\"\n",
        "age = 30\n",
        "formatted_string = f\"My name is {name} and I am {age} years old.\"\n",
        "print(formatted_string)  # Output: My name is Bob and I am 30 years old."
      ],
      "metadata": {
        "id": "JEydVl5VAGNH"
      },
      "execution_count": null,
      "outputs": []
    },
    {
      "cell_type": "markdown",
      "source": [
        "# String Methods in Python\n",
        "\n",
        "**Overview**\n",
        "\n",
        "Python provides a variety of built-in string methods for manipulating and formatting strings. These methods allow you to perform common operations such as converting case, stripping whitespace, splitting and joining strings, and much more.\n",
        "\n",
        "**Common String Methods**\n",
        "\n",
        "Here are some of the most commonly used string methods:\n",
        "\n",
        "* upper(): Converts all characters in a string to uppercase."
      ],
      "metadata": {
        "id": "RbGJgTOPAIvI"
      }
    },
    {
      "cell_type": "code",
      "source": [
        "text = \"hello, world!\"\n",
        "print(text.upper())  # Output: HELLO, WORLD!"
      ],
      "metadata": {
        "id": "oTug4kmzAR6V"
      },
      "execution_count": null,
      "outputs": []
    },
    {
      "cell_type": "markdown",
      "source": [
        "* lower(): Converts all characters in a string to lowercase."
      ],
      "metadata": {
        "id": "CYgFhREbBErS"
      }
    },
    {
      "cell_type": "code",
      "source": [
        "text = \"Hello, World!\"\n",
        "print(text.lower())  # Output: hello, world!"
      ],
      "metadata": {
        "id": "-ErblhsqBHs9"
      },
      "execution_count": null,
      "outputs": []
    },
    {
      "cell_type": "markdown",
      "source": [
        "* capitalize(): Capitalizes the first character of a string."
      ],
      "metadata": {
        "id": "rH0zDn7VBJUV"
      }
    },
    {
      "cell_type": "code",
      "source": [
        "text = \"hello, world!\"\n",
        "print(text.capitalize())  # Output: Hello, world!"
      ],
      "metadata": {
        "id": "8Pe5IB3nBMEJ"
      },
      "execution_count": null,
      "outputs": []
    },
    {
      "cell_type": "markdown",
      "source": [
        "* strip(): Removes leading and trailing whitespace from a string."
      ],
      "metadata": {
        "id": "ZP_RWdPQBNue"
      }
    },
    {
      "cell_type": "code",
      "source": [
        "text = \"   Hello, World!   \"\n",
        "print(text.strip())  # Output: \"Hello, World!\""
      ],
      "metadata": {
        "id": "NlwCjVt0BSBS"
      },
      "execution_count": null,
      "outputs": []
    },
    {
      "cell_type": "markdown",
      "source": [
        "* split(): Splits a string into a list of substrings based on a delimiter."
      ],
      "metadata": {
        "id": "Y6WTAB1jBUJo"
      }
    },
    {
      "cell_type": "code",
      "source": [
        "text = \"apple,banana,orange\"\n",
        "print(text.split(','))  # Output: ['apple', 'banana', 'orange']"
      ],
      "metadata": {
        "id": "hEXLs6HvBXk3"
      },
      "execution_count": null,
      "outputs": []
    },
    {
      "cell_type": "markdown",
      "source": [
        "* join(): Joins elements of a sequence into a string using a specified separator."
      ],
      "metadata": {
        "id": "UXnJznFWBaKj"
      }
    },
    {
      "cell_type": "code",
      "source": [
        "words = ['apple', 'banana', 'orange']\n",
        "print(','.join(words))  # Output: apple,banana,orange"
      ],
      "metadata": {
        "id": "PY137TZaBdKj"
      },
      "execution_count": null,
      "outputs": []
    },
    {
      "cell_type": "markdown",
      "source": [
        "# String Searching Methods:\n",
        "\n",
        "find():\n",
        "\n",
        "The find() method is used to search for a substring within a string. It returns the lowest index of the substring if found, otherwise, it returns -1.\n",
        "\n",
        "Syntax: string.find(substring, start, end)\n",
        "\n",
        "* substring: The substring to search for.\n",
        "* start (optional): The starting index of the search.\n",
        "* end (optional): The ending index of the search.\n",
        "\n",
        "**Example**"
      ],
      "metadata": {
        "id": "YMhDExA_BfDE"
      }
    },
    {
      "cell_type": "code",
      "source": [
        "sentence = \"Hello, how are you?\"\n",
        "print(sentence.find(\"how\"))  # Output: 7"
      ],
      "metadata": {
        "id": "PaYT8rtzDTqb"
      },
      "execution_count": null,
      "outputs": []
    },
    {
      "cell_type": "markdown",
      "source": [
        "index():\n",
        "\n",
        "The index() method is similar to find(), but it raises a ValueError if the substring is not found.\n",
        "\n",
        "Syntax: string.index(substring, start, end)\n",
        "\n",
        "* Parameters are similar to find().\n",
        "\n",
        "**Example**"
      ],
      "metadata": {
        "id": "sUn3F75xDWxq"
      }
    },
    {
      "cell_type": "code",
      "source": [
        "sentence = \"Hello, how are you?\"\n",
        "print(sentence.index(\"how\"))  # Output: 7"
      ],
      "metadata": {
        "id": "QSsPuHRUDj_7"
      },
      "execution_count": null,
      "outputs": []
    },
    {
      "cell_type": "markdown",
      "source": [
        "count():\n",
        "\n",
        "The count() method counts the occurrences of a substring in a string.\n",
        "\n",
        "Syntax: string.count(substring, start, end)\n",
        "\n",
        "* Parameters are similar to find().\n",
        "\n",
        "**Example**"
      ],
      "metadata": {
        "id": "gDgjog82Dl-W"
      }
    },
    {
      "cell_type": "code",
      "source": [
        "sentence = \"Hello, how are you?\"\n",
        "print(sentence.count(\"o\"))  # Output: 3"
      ],
      "metadata": {
        "id": "LCzjnh7ZDuBJ"
      },
      "execution_count": null,
      "outputs": []
    },
    {
      "cell_type": "markdown",
      "source": [
        "replace():\n",
        "\n",
        "The replace() method replaces occurrences of a substring with another substring.\n",
        "\n",
        "Syntax: string.replace(old, new, count)\n",
        "\n",
        "* old: Substring to be replaced.\n",
        "* new: Substring to replace old.\n",
        "* count (optional): Number of occurrences to replace (if not specified, all occurrences are replaced).\n",
        "\n",
        "**Example**"
      ],
      "metadata": {
        "id": "cIFJ4hQNDx4_"
      }
    },
    {
      "cell_type": "code",
      "source": [
        "sentence = \"Hello, how are you?\"\n",
        "new_sentence = sentence.replace(\"you\", \"they\")\n",
        "print(new_sentence)  # Output: Hello, how are they?"
      ],
      "metadata": {
        "id": "nZtzh-7RD_lF"
      },
      "execution_count": null,
      "outputs": []
    },
    {
      "cell_type": "markdown",
      "source": [
        "# Introduction to Regular Expressions:\n",
        "\n",
        "Regular expressions are powerful tools for pattern matching and text manipulation. They allow you to define patterns that describe sets of strings. Python's re module provides support for working with regular expressions.\n",
        "\n",
        "**Common Regex Patterns and Applications:**\n",
        "\n",
        "1. Literal Characters:\n",
        "\n",
        "* Matches exact characters in a string.\n",
        "\n",
        "**Example**"
      ],
      "metadata": {
        "id": "Zn3y508aEcxh"
      }
    },
    {
      "cell_type": "code",
      "source": [
        "import re\n",
        "pattern = r\"cat\"\n",
        "text = \"I have a cat and a dog.\"\n",
        "matches = re.findall(pattern, text)\n",
        "print(matches)  # Output: ['cat']"
      ],
      "metadata": {
        "id": "nJ7OPfItErmr"
      },
      "execution_count": null,
      "outputs": []
    },
    {
      "cell_type": "markdown",
      "source": [
        "2. Character Classes:\n",
        "\n",
        "* Matches any single character within the specified set.\n",
        "\n",
        "**Example**"
      ],
      "metadata": {
        "id": "IpOsgZdzEu0o"
      }
    },
    {
      "cell_type": "code",
      "source": [
        "pattern = r\"[aeiou]\"\n",
        "text = \"Hello World\"\n",
        "matches = re.findall(pattern, text)\n",
        "print(matches)  # Output: ['e', 'o', 'o']"
      ],
      "metadata": {
        "id": "80LOjPH2E0Wp"
      },
      "execution_count": null,
      "outputs": []
    },
    {
      "cell_type": "markdown",
      "source": [
        "3. Quantifiers:\n",
        "\n",
        "* Specify the number of occurrences of a character or group.\n",
        "\n",
        "**Example**"
      ],
      "metadata": {
        "id": "bPb5O-PUE5he"
      }
    },
    {
      "cell_type": "code",
      "source": [
        "pattern = r\"o{2,3}\"\n",
        "text = \"Helloooo\"\n",
        "matches = re.findall(pattern, text)\n",
        "print(matches)  # Output: ['ooo']"
      ],
      "metadata": {
        "id": "iJFxxN8eE-4h"
      },
      "execution_count": null,
      "outputs": []
    },
    {
      "cell_type": "markdown",
      "source": [
        "4. Anchors:\n",
        "\n",
        "* Specify positions in the string, such as the beginning (^) or end ($) of a line.\n",
        "\n",
        "**Example**"
      ],
      "metadata": {
        "id": "ozDOKZYqFBC0"
      }
    },
    {
      "cell_type": "code",
      "source": [
        "pattern = r\"^Hello\"\n",
        "text = \"Hello World\"\n",
        "matches = re.findall(pattern, text)\n",
        "print(matches)  # Output: ['Hello']"
      ],
      "metadata": {
        "id": "Qu7ChBqVFHHh"
      },
      "execution_count": null,
      "outputs": []
    },
    {
      "cell_type": "markdown",
      "source": [
        "5. Groups and Capture Groups:\n",
        "\n",
        "* Groups parts of the pattern together and captures the matched substring.\n",
        "\n",
        "**Example**"
      ],
      "metadata": {
        "id": "6WqV83vXFMQS"
      }
    },
    {
      "cell_type": "code",
      "source": [
        "pattern = r\"(\\d{3})-(\\d{3})-(\\d{4})\"\n",
        "text = \"My phone number is 123-456-7890.\"\n",
        "matches = re.findall(pattern, text)\n",
        "print(matches)  # Output: [('123', '456', '7890')]"
      ],
      "metadata": {
        "id": "yg2n_syfFRVE"
      },
      "execution_count": null,
      "outputs": []
    },
    {
      "cell_type": "markdown",
      "source": [
        "**Example Application:**\n",
        "\n",
        "Let's say we want to extract email addresses from a text:"
      ],
      "metadata": {
        "id": "HZbJ0P6GFTTZ"
      }
    },
    {
      "cell_type": "code",
      "source": [
        "import re\n",
        "\n",
        "text = \"Contact us at email@example.com or support@example.org\"\n",
        "pattern = r\"\\b[A-Za-z0-9._%+-]+@[A-Za-z0-9.-]+\\.[A-Z|a-z]{2,}\\b\"\n",
        "matches = re.findall(pattern, text)\n",
        "print(matches)  # Output: ['email@example.com', 'support@example.org']"
      ],
      "metadata": {
        "id": "sFL-rIlvFYCf"
      },
      "execution_count": null,
      "outputs": []
    },
    {
      "cell_type": "markdown",
      "source": [
        "This regex pattern matches email addresses following the standard format.\n",
        "\n",
        "Regular expressions are incredibly versatile and essential for tasks involving pattern matching and text processing in Python. They offer a powerful way to manipulate strings based on complex patterns."
      ],
      "metadata": {
        "id": "C86Zvl06Fczu"
      }
    },
    {
      "cell_type": "markdown",
      "source": [
        "# Activity\n",
        "\n",
        "1. Search for all occurrences of a specific word in a given text.\n",
        "2. Count the number of vowels in a string.\n",
        "3. Extract all the email addresses from a given text.\n",
        "4. Replace all occurrences of a word with another word in a text.\n",
        "5. Find all words starting with a vowel in a sentence.\n",
        "6. Determine if a string is a palindrome.\n",
        "7. Extract all the phone numbers from a text.\n",
        "8. Check if a string contains only alphanumeric characters.\n",
        "9. Replace all special characters in a string with spaces.\n",
        "10. Extract all the hashtags from a social media post.\n",
        "11. Validate if a given string is a valid URL.\n",
        "12. Convert a given string to title case.\n",
        "13. Remove all duplicate words from a sentence.\n",
        "14. Check if a string ends with a punctuation mark.\n",
        "15. Reverse the words in a sentence.\n",
        "16. Extract all the mentions from a tweet.\n",
        "17. Check if a string contains consecutive repeating characters.\n",
        "18. Remove all leading and trailing whitespaces from a string.\n",
        "19. Split a text into sentences.\n",
        "20. Extract all hashtags from a tweet.\n",
        "21. Check if a string contains a valid date in the format DD/MM/YYYY.\n",
        "22. Convert a given string to lowercase, but keep the first letter of each word capitalized.\n",
        "23. Check if a string contains a valid credit card number.\n",
        "24. Remove all numbers from a string.\n",
        "25. Extract all the URLs from a webpage source code."
      ],
      "metadata": {
        "id": "tGTcPvtlF3Ql"
      }
    }
  ]
}