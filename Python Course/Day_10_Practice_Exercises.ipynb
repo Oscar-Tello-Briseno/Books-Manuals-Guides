{
  "nbformat": 4,
  "nbformat_minor": 0,
  "metadata": {
    "colab": {
      "provenance": []
    },
    "kernelspec": {
      "name": "python3",
      "display_name": "Python 3"
    },
    "language_info": {
      "name": "python"
    }
  },
  "cells": [
    {
      "cell_type": "markdown",
      "source": [
        "# Practice Exercises\n",
        "\n",
        "Brief recap of key concepts covered in previous sessions, including variables, data types, control flow, data structures, and string manipulation."
      ],
      "metadata": {
        "id": "BGHN0ynsJYCr"
      }
    },
    {
      "cell_type": "markdown",
      "source": [
        "1. Write a Python script to print \"Hello, World!\".\n",
        "2. Create a program to calculate the area of a rectangle.\n",
        "3. Develop a script to convert temperature from Celsius to Fahrenheit.\n",
        "4. Write a program to check if a number is even or odd.\n",
        "5. Implement a script to find the maximum of two numbers.\n",
        "6. Create a Python program to calculate the factorial of a number.\n",
        "7. Develop a script to check if a year is a leap year.\n",
        "8. Write a program to print the Fibonacci sequence.\n",
        "9. Implement a Python script to check if a number is prime.\n",
        "10. Create a program to find the largest among three numbers.\n",
        "11. Write a Python script to find the sum of natural numbers up to N.\n",
        "12. Develop a program to reverse a given number.\n",
        "13. Implement a script to find the GCD of two numbers.\n",
        "14. Write a program to print all prime numbers within a given range.\n",
        "15. Create a Python script to find the roots of a quadratic equation.\n",
        "16. Develop a program to find the factorial of a number.\n",
        "17. Write a script to check if a string is palindrome or not.\n",
        "18. Implement a Python program to sort a list of elements.\n",
        "19. Create a program to generate the multiplication table of a number.\n",
        "20. Develop a script to find the sum of digits of a number.\n",
        "21. Write a Python program to count the number of vowels in a string.\n",
        "22. Implement a program to count the occurrences of a character in a string.\n",
        "23. Create a script to check if a string is an anagram of another.\n",
        "24. Develop a program to remove duplicates from a list.\n",
        "25. Write a Python script to find the second largest number in a list.\n",
        "26. Implement a program to find the intersection of two lists.\n",
        "27. Create a program to remove vowels from a string.\n",
        "28. Write a script to reverse a string without using any built-in functions.\n",
        "29. Develop a Python program to check if a string contains only numbers.\n",
        "30. Create a program to find the longest word in a sentence.\n",
        "31. Write a Python script to capitalize the first letter of each word in a sentence.\n",
        "32. Implement a program to count the number of words in a sentence.\n",
        "33. Develop a script to check if two strings are rotation of each other.\n",
        "34. Write a program to find the missing number in a given list of integers.\n",
        "35. Create a Python script to find the median of a list of numbers.\n",
        "36. Implement a program to find the mode of a list of numbers.\n",
        "37. Write a script to check if a given number is a perfect square.\n",
        "38. Develop a program to convert a decimal to binary, octal, and hexadecimal.\n",
        "39. Create a Python script to remove the nth index character from a string.\n",
        "40. Implement a program to find all anagrams in a list of strings.\n",
        "41. Write a program to check if a string is a pangram.\n",
        "42. Develop a script to find the longest common prefix among a set of strings.\n",
        "43. Create a program to check if a string follows a specific pattern.\n",
        "44. Write a Python script to find the first non-repeating character in a string.\n",
        "45. Implement a program to convert a Roman numeral to an integer.\n",
        "46. Develop a script to generate all possible permutations of a list.\n",
        "47. Create a program to find the majority element in a list.\n",
        "48. Write a Python script to find the longest palindrome in a string.\n",
        "49. Create a program that prints all the numbers from 1 to 100 using a for loop.\n",
        "50. Create a program that checks if a key exists in a dictionary."
      ],
      "metadata": {
        "id": "3rOl4m9VJlHF"
      }
    },
    {
      "cell_type": "code",
      "execution_count": null,
      "metadata": {
        "id": "5qFul6_rJWx3"
      },
      "outputs": [],
      "source": []
    }
  ]
}