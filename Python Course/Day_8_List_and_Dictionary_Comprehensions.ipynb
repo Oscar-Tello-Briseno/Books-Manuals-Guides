{
  "nbformat": 4,
  "nbformat_minor": 0,
  "metadata": {
    "colab": {
      "provenance": []
    },
    "kernelspec": {
      "name": "python3",
      "display_name": "Python 3"
    },
    "language_info": {
      "name": "python"
    }
  },
  "cells": [
    {
      "cell_type": "markdown",
      "source": [
        "# Introduction to Comprehensions in Python\n",
        "\n",
        "**Definition of Comprehensions**\n",
        "\n",
        "Comprehensions in Python provide a concise syntax for creating lists, dictionaries, and sets based on existing iterables such as lists, tuples, or ranges. They allow you to generate data structures in a single line of code, making your code more readable and expressive.\n",
        "\n",
        "**Advantages of Comprehensions**\n",
        "\n",
        "Comprehensions offer several advantages over traditional looping methods:\n",
        "\n",
        "* Concise Syntax: Comprehensions allow you to express complex operations in a compact and readable manner, reducing the amount of code you need to write.\n",
        "* Efficiency: Comprehensions are often more efficient than traditional looping constructs because they are optimized at the CPython level.\n",
        "* Readability: Comprehensions make your code more readable by clearly expressing the intent of the operation without the need for verbose loop constructs.\n",
        "\n",
        "**Types of Comprehensions**\n",
        "\n",
        "* List Comprehensions: Used to create lists based on existing iterables."
      ],
      "metadata": {
        "id": "4FNCSmTQUJuJ"
      }
    },
    {
      "cell_type": "code",
      "source": [
        "# Example: List comprehension to generate squares of numbers from 1 to 5\n",
        "squares = [x**2 for x in range(1, 6)]\n",
        "print(squares)  # Output: [1, 4, 9, 16, 25]"
      ],
      "metadata": {
        "id": "54CV_Z3aVePp"
      },
      "execution_count": null,
      "outputs": []
    },
    {
      "cell_type": "markdown",
      "source": [
        "* Dictionary Comprehensions: Used to create dictionaries based on existing iterables."
      ],
      "metadata": {
        "id": "8t-9-tfTVivl"
      }
    },
    {
      "cell_type": "code",
      "source": [
        "# Example: Dictionary comprehension to generate a dictionary of squares of numbers from 1 to 5\n",
        "squares_dict = {x: x**2 for x in range(1, 6)}\n",
        "print(squares_dict)  # Output: {1: 1, 2: 4, 3: 9, 4: 16, 5: 25}"
      ],
      "metadata": {
        "id": "0rhbvz9iVhWI"
      },
      "execution_count": null,
      "outputs": []
    },
    {
      "cell_type": "markdown",
      "source": [
        "* Set Comprehensions: Used to create sets based on existing iterables."
      ],
      "metadata": {
        "id": "uPcvkB7mVpIa"
      }
    },
    {
      "cell_type": "code",
      "execution_count": null,
      "metadata": {
        "id": "CjYhTUGYP3p5"
      },
      "outputs": [],
      "source": [
        "# Example: Set comprehension to generate a set of squares of numbers from 1 to 5\n",
        "squares_set = {x**2 for x in range(1, 6)}\n",
        "print(squares_set)  # Output: {1, 4, 9, 16, 25}"
      ]
    },
    {
      "cell_type": "markdown",
      "source": [
        "# Dictionary Comprehensions in Python\n",
        "\n",
        "**Syntax of Dictionary Comprehensions**\n",
        "\n",
        "Dictionary comprehensions in Python have a concise syntax for creating dictionaries from iterables.\n",
        "\n",
        "The general syntax of a dictionary comprehension is:"
      ],
      "metadata": {
        "id": "c1SMeTtzVvc8"
      }
    },
    {
      "cell_type": "code",
      "source": [
        "{key_expression: value_expression for item in iterable if condition}"
      ],
      "metadata": {
        "id": "JgRN8auMW2KA"
      },
      "execution_count": null,
      "outputs": []
    },
    {
      "cell_type": "markdown",
      "source": [
        "* key_expression: The expression to compute the keys of the dictionary.\n",
        "* value_expression: The expression to compute the values of the dictionary.\n",
        "* item: The variable representing each item in the iterable.\n",
        "* iterable: The iterable object (e.g., list, tuple, or range) to iterate over.\n",
        "* condition (optional): An optional condition that filters the items.\n",
        "\n",
        "**Demonstrations**\n",
        "\n",
        "Let's see some examples of creating dictionaries using dictionary comprehensions:\n",
        "\n",
        "* Creating a Dictionary of Squares:"
      ],
      "metadata": {
        "id": "TRwztfHfW3kl"
      }
    },
    {
      "cell_type": "code",
      "source": [
        "# Dictionary comprehension to generate a dictionary of squares of numbers from 1 to 5\n",
        "squares_dict = {x: x**2 for x in range(1, 6)}\n",
        "print(squares_dict)  # Output: {1: 1, 2: 4, 3: 9, 4: 16, 5: 25}"
      ],
      "metadata": {
        "id": "i-zs-9knXB_T"
      },
      "execution_count": null,
      "outputs": []
    },
    {
      "cell_type": "markdown",
      "source": [
        "* Creating a Dictionary from a List with a Condition:"
      ],
      "metadata": {
        "id": "EjVwh6RZXEn3"
      }
    },
    {
      "cell_type": "code",
      "source": [
        "# Dictionary comprehension to generate a dictionary from a list with a condition\n",
        "names = ['Alice', 'Bob', 'Charlie']\n",
        "name_lengths = {name: len(name) for name in names if len(name) > 4}\n",
        "print(name_lengths)  # Output: {'Alice': 5, 'Charlie': 7}"
      ],
      "metadata": {
        "id": "SJDjvEzRXIT4"
      },
      "execution_count": null,
      "outputs": []
    },
    {
      "cell_type": "markdown",
      "source": [
        "* Creating a Dictionary from Two Lists:"
      ],
      "metadata": {
        "id": "HbQv4yXEXKdM"
      }
    },
    {
      "cell_type": "code",
      "source": [
        "# Dictionary comprehension to generate a dictionary from two lists\n",
        "keys = ['a', 'b', 'c']\n",
        "values = [1, 2, 3]\n",
        "combined_dict = {k: v for k, v in zip(keys, values)}\n",
        "print(combined_dict)  # Output: {'a': 1, 'b': 2, 'c': 3}"
      ],
      "metadata": {
        "id": "dImyTc5QXPZu"
      },
      "execution_count": null,
      "outputs": []
    },
    {
      "cell_type": "markdown",
      "source": [
        "# Conditional Dictionary Comprehensions in Python\n",
        "\n",
        "**Introduction to Conditional Expressions**\n",
        "\n",
        "Conditional expressions within dictionary comprehensions allow for filtering key-value pairs based on specified conditions.\n",
        "\n",
        "The syntax for conditional dictionary comprehensions is similar to regular dictionary comprehensions, but with the addition of a conditional expression."
      ],
      "metadata": {
        "id": "YOEcEPXpXMuX"
      }
    },
    {
      "cell_type": "code",
      "source": [
        "{key_expression: value_expression for item in iterable if condition}"
      ],
      "metadata": {
        "id": "zpnoIcfHXfFK"
      },
      "execution_count": null,
      "outputs": []
    },
    {
      "cell_type": "markdown",
      "source": [
        "**Examples**\n",
        "Let's see some examples of conditional dictionary comprehensions:\n",
        "\n",
        "* Filtering Even Numbers:"
      ],
      "metadata": {
        "id": "I-Xg6mTSXjiz"
      }
    },
    {
      "cell_type": "code",
      "source": [
        "# Conditional dictionary comprehension to filter even numbers\n",
        "numbers = [1, 2, 3, 4, 5, 6, 7, 8, 9, 10]\n",
        "even_numbers_dict = {num: num**2 for num in numbers if num % 2 == 0}\n",
        "print(even_numbers_dict)  # Output: {2: 4, 4: 16, 6: 36, 8: 64, 10: 100}"
      ],
      "metadata": {
        "id": "8vp_wBp1Xqp1"
      },
      "execution_count": null,
      "outputs": []
    },
    {
      "cell_type": "markdown",
      "source": [
        "* Filtering by Key Length:"
      ],
      "metadata": {
        "id": "IkzLKrcdXuSs"
      }
    },
    {
      "cell_type": "code",
      "source": [
        "# Conditional dictionary comprehension to filter key-value pairs based on key length\n",
        "names = {'Alice': 30, 'Bob': 25, 'Charlie': 35, 'David': 40}\n",
        "short_names_dict = {name: age for name, age in names.items() if len(name) <= 4}\n",
        "print(short_names_dict)  # Output: {'Bob': 25}"
      ],
      "metadata": {
        "id": "VzthTmjZXwUf"
      },
      "execution_count": null,
      "outputs": []
    },
    {
      "cell_type": "markdown",
      "source": [
        "* Conditional Value Transformation:"
      ],
      "metadata": {
        "id": "lhDAeJ54X3x8"
      }
    },
    {
      "cell_type": "code",
      "source": [
        "# Conditional dictionary comprehension to transform values based on conditions\n",
        "scores = {'Alice': 85, 'Bob': 70, 'Charlie': 95, 'David': 60}\n",
        "grade_dict = {name: 'Pass' if score >= 70 else 'Fail' for name, score in scores.items()}\n",
        "print(grade_dict)  # Output: {'Alice': 'Pass', 'Bob': 'Pass', 'Charlie': 'Pass', 'David': 'Fail'}"
      ],
      "metadata": {
        "id": "t_fSyRGYX6QN"
      },
      "execution_count": null,
      "outputs": []
    },
    {
      "cell_type": "markdown",
      "source": [
        "# Activity\n",
        "\n",
        "* Exercise 1: Nested Dictionary ComprehensionWrite a nested dictionary comprehension to generate a dictionary of squares where the keys are even numbers from 1 to 10, and the values are dictionaries containing the square and cube of each even number.\n",
        "* Exercise 2: Filtering Dictionary ComprehensionGiven a list of tuples representing (name, age) pairs, create a dictionary where the keys are names and the values are ages, but only include those pairs where the age is greater than 18.\n",
        "* Exercise 3: Dictionary Comprehension with Conditional Value TransformationGiven a dictionary of student names and their exam scores, create a new dictionary where the keys are student names and the values are 'Pass' if the score is greater than or equal to 60, and 'Fail' otherwise.\n",
        "* Exercise 4: Advanced Conditional Dictionary ComprehensionGiven a list of tuples representing (name, score) pairs, create a dictionary where the keys are names and the values are the corresponding scores, but only include those pairs where the name starts with 'A' and the score is greater than 70.\n",
        "* Exercise 5: Dictionary Comprehension with Multiple ConditionsGiven two lists representing names and ages, create a dictionary where the keys are names and the values are ages, but only include those pairs where the name starts with 'J' and the age is less than 30."
      ],
      "metadata": {
        "id": "OUVsIOBxX8NS"
      }
    }
  ]
}